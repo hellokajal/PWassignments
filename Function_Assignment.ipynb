{
 "cells": [
  {
   "cell_type": "markdown",
   "id": "c099d2de-9714-4e69-b351-9d356015293c",
   "metadata": {},
   "source": [
    "# Theory Questions:"
   ]
  },
  {
   "cell_type": "raw",
   "id": "cfe9d595-74a1-40af-b800-2eaefded8529",
   "metadata": {},
   "source": [
    " 1. What is the difference between a function and a method in Python?"
   ]
  },
  {
   "cell_type": "raw",
   "id": "251a6ef6-5837-4b0a-b429-28d453fa5960",
   "metadata": {},
   "source": [
    "Method:\n",
    "1. Method is called by its name, but it is associated to an object (dependent).\n",
    "2. A method definition always includes ‘self’ as its first parameter.\n",
    "3. A method is implicitly passed to the object on which it is invoked.\n",
    "4. It may or may not return any data.\n",
    "5. A method can operate on the data (instance variables) that is contained by the corresponding class.\n"
   ]
  },
  {
   "cell_type": "code",
   "execution_count": 1,
   "id": "b7b4872c-09c3-4922-b6bf-2fa164d8bc18",
   "metadata": {
    "collapsed": true,
    "jupyter": {
     "outputs_hidden": true
    }
   },
   "outputs": [
    {
     "name": "stdout",
     "output_type": "stream",
     "text": [
      "I am in method_abc of ABC class. \n"
     ]
    }
   ],
   "source": [
    "# example of method\n",
    "\n",
    "class ABC :\n",
    "\tdef method_abc (self):\n",
    "\t\tprint(\"I am in method_abc of ABC class. \")\n",
    "\n",
    "class_ref = ABC() # object of ABC class\n",
    "class_ref.method_abc()\n"
   ]
  },
  {
   "cell_type": "raw",
   "id": "936fef2c-1ee7-4f40-bbd9-a790d14627a0",
   "metadata": {},
   "source": [
    "Functions:\n",
    "\n",
    "1. Function is block of code that is also called by its name. (independent)\n",
    "2. The function can have different parameters or may not have any at all. If any data (parameters) are passed, they are      passed explicitly.\n",
    "3. It may or may not return any data.\n",
    "4. Function does not deal with Class and its instance concept."
   ]
  },
  {
   "cell_type": "code",
   "execution_count": 3,
   "id": "4e645c05-bb4a-4571-b142-a8d8adde9037",
   "metadata": {
    "collapsed": true,
    "jupyter": {
     "outputs_hidden": true
    }
   },
   "outputs": [
    {
     "name": "stdout",
     "output_type": "stream",
     "text": [
      "2\n"
     ]
    }
   ],
   "source": [
    "# Example of Function\n",
    "\n",
    "def Subtract (a, b):\n",
    "\treturn (a-b)\n",
    "\n",
    "print(Subtract(12, 10))\n"
   ]
  },
  {
   "cell_type": "raw",
   "id": "01e09c3c-d062-45a5-96e6-58ab7bd029e7",
   "metadata": {},
   "source": [
    " 2. Explain the concept of function arguments and parameters in Python."
   ]
  },
  {
   "cell_type": "raw",
   "id": "b56e8eb2-d6a6-43b7-b557-287762824431",
   "metadata": {},
   "source": [
    "Argument: The values that are declared within a function when the function is called are known as an argument."
   ]
  },
  {
   "cell_type": "code",
   "execution_count": 4,
   "id": "bc760bcb-2dd1-4568-a665-cc0023d43b11",
   "metadata": {
    "collapsed": true,
    "jupyter": {
     "outputs_hidden": true
    }
   },
   "outputs": [
    {
     "name": "stdout",
     "output_type": "stream",
     "text": [
      "RamBabu\n"
     ]
    }
   ],
   "source": [
    "#Example of argument of function\n",
    "\n",
    "def person_name(first_name,second_name):\n",
    "  print(first_name+second_name)\n",
    "\n",
    "# Here we are explicitly assigning the values \n",
    "person_name(second_name=\"Babu\",first_name=\"Ram\")\n"
   ]
  },
  {
   "cell_type": "raw",
   "id": "f28f2371-4d02-4d7f-8cb8-352a6fa8754c",
   "metadata": {},
   "source": [
    "Parameters:  The variables that are defined when the function is declared are known as parameters."
   ]
  },
  {
   "cell_type": "code",
   "execution_count": 5,
   "id": "eb5d2fd1-7037-4cce-91d1-bd79ec05b402",
   "metadata": {
    "collapsed": true,
    "jupyter": {
     "outputs_hidden": true
    }
   },
   "outputs": [
    {
     "name": "stdout",
     "output_type": "stream",
     "text": [
      "I am from Sweden\n",
      "I am from India\n",
      "I am from Norway\n",
      "I am from Brazil\n"
     ]
    }
   ],
   "source": [
    "# Example of parameter in functions\n",
    "def my_function(country = \"Norway\"):\n",
    "  print(\"I am from \" + country)\n",
    "\n",
    "my_function(\"Sweden\")\n",
    "my_function(\"India\")\n",
    "my_function()\n",
    "my_function(\"Brazil\")"
   ]
  },
  {
   "cell_type": "raw",
   "id": "af09668b-c1c0-41ea-b4a7-4a1d6c97f516",
   "metadata": {},
   "source": [
    " 3. What are the different ways to define and call a function in Python?"
   ]
  },
  {
   "cell_type": "markdown",
   "id": "40deb2b1-fc6e-4fc2-be87-2735c2e76db1",
   "metadata": {},
   "source": [
    "1. Basic Function Definition and Call\n"
   ]
  },
  {
   "cell_type": "code",
   "execution_count": 48,
   "id": "e4f5ceb0-e0bc-4744-b31c-ed2352aafbe1",
   "metadata": {},
   "outputs": [
    {
     "name": "stdout",
     "output_type": "stream",
     "text": [
      "Hello, Alice!\n"
     ]
    }
   ],
   "source": [
    "#Example:\n",
    "\n",
    "def greet(name):\n",
    "    return f\"Hello, {name}!\"\n",
    "message = greet(\"Alice\")\n",
    "print(message) "
   ]
  },
  {
   "cell_type": "markdown",
   "id": "bce4f541-7ff8-4d93-a0d0-b2d4e56c035a",
   "metadata": {},
   "source": [
    "2. Function with Default Parameters\n"
   ]
  },
  {
   "cell_type": "code",
   "execution_count": 50,
   "id": "59c5aaf2-928b-464d-8909-d1d27c466517",
   "metadata": {},
   "outputs": [
    {
     "name": "stdout",
     "output_type": "stream",
     "text": [
      "Hello, World!\n",
      "Hello, Bob!\n"
     ]
    }
   ],
   "source": [
    "#eExample:\n",
    "\n",
    "def greet(name=\"World\"):\n",
    "    return f\"Hello, {name}!\"\n",
    "print(greet())       \n",
    "print(greet(\"Bob\")) "
   ]
  },
  {
   "cell_type": "markdown",
   "id": "3f40eb6b-22c5-493c-b268-120fc814b9e6",
   "metadata": {
    "jupyter": {
     "outputs_hidden": true
    }
   },
   "source": [
    "3. Function with Variable Number of Positional Arguments (*args)\n"
   ]
  },
  {
   "cell_type": "code",
   "execution_count": 51,
   "id": "54918530-2d19-4f3b-adca-10cd6f5b9c4c",
   "metadata": {},
   "outputs": [
    {
     "name": "stdout",
     "output_type": "stream",
     "text": [
      "6\n",
      "60\n"
     ]
    }
   ],
   "source": [
    "#Example::\n",
    "def add(*numbers):\n",
    "    return sum(numbers)\n",
    "print(add(1, 2, 3))    \n",
    "print(add(10, 20, 30))  "
   ]
  },
  {
   "cell_type": "markdown",
   "id": "0b3fffc8-a00e-434f-b137-74f85d79a443",
   "metadata": {},
   "source": [
    "4. Function with Variable Number of Keyword Arguments (**kwargs)\n"
   ]
  },
  {
   "cell_type": "code",
   "execution_count": 52,
   "id": "c1189110-76a3-4224-a309-80ab69aa4463",
   "metadata": {},
   "outputs": [
    {
     "name": "stdout",
     "output_type": "stream",
     "text": [
      "name: Alice\n",
      "age: 30\n",
      "city: New York\n"
     ]
    }
   ],
   "source": [
    "#Example:\n",
    "\n",
    "def print_info(**info):\n",
    "    for key, value in info.items():\n",
    "        print(f\"{key}: {value}\")\n",
    "print_info(name=\"Alice\", age=30, city=\"New York\")"
   ]
  },
  {
   "cell_type": "markdown",
   "id": "e1c800f8-b8f6-44b4-99af-71dbae383100",
   "metadata": {},
   "source": [
    "5. Lambda Functions (Anonymous Functions)\n"
   ]
  },
  {
   "cell_type": "code",
   "execution_count": 53,
   "id": "c9b6d807-3d19-4be1-9ea2-85ad2542da9c",
   "metadata": {},
   "outputs": [
    {
     "name": "stdout",
     "output_type": "stream",
     "text": [
      "16\n"
     ]
    }
   ],
   "source": [
    "#Example:\n",
    "\n",
    "square = lambda x: x ** 2\n",
    "print(square(4))"
   ]
  },
  {
   "cell_type": "raw",
   "id": "b10d4484-131b-48c9-b8a3-08352f73d7ed",
   "metadata": {},
   "source": [
    " 4. What is the purpose of the `return` statement in a Python function?"
   ]
  },
  {
   "cell_type": "raw",
   "id": "afc43671-1c5a-4b73-af84-3cd73a9d7914",
   "metadata": {},
   "source": [
    "The return statement in Python functions has several purposes: \n",
    "1. Marks the end of a function \n",
    "2. Specifies the value or values to pass back from the function \n",
    "3. Allows functions to pass back values to the caller \n",
    "4. Enables the program to use the output of the function for further computations or storage \n",
    "5. Communicates the outcome of a function's processing back to the caller \n",
    "6. Allows the returned value to be used for further operations or decisions in the program"
   ]
  },
  {
   "cell_type": "code",
   "execution_count": 6,
   "id": "4b27261b-8237-4ba3-93c5-acc534f62d36",
   "metadata": {
    "collapsed": true,
    "jupyter": {
     "outputs_hidden": true
    }
   },
   "outputs": [
    {
     "name": "stdout",
     "output_type": "stream",
     "text": [
      "Calculated area: 2500\n"
     ]
    }
   ],
   "source": [
    "# Example of use return in function\n",
    "\n",
    "def calculate_area(length, width):\n",
    "\tarea = length * width\n",
    "\treturn area\n",
    "\n",
    "area = calculate_area(50, 50) # get the result of the function\n",
    "print(f\"Calculated area: {area}\") # use the result of the function\n"
   ]
  },
  {
   "cell_type": "raw",
   "id": "98915753-07f5-495a-98a3-adc248fec681",
   "metadata": {},
   "source": [
    " 5. What are iterators in Python and how do they differ from iterables?"
   ]
  },
  {
   "cell_type": "raw",
   "id": "f362c56b-8081-4630-815e-bdb51f1dd9c5",
   "metadata": {},
   "source": [
    "An iterator is an object that contains a countable number of values. An iterator is an object that can be iterated upon, meaning that you can traverse through all the values.\n",
    "Iterator means retuning the values one by one from any data type.\n",
    "\n",
    "Difference between iterators and iterables are :\n",
    "\n",
    "1. An Iterable is basically an object that any user can iterate over while Iterator is also an object that helps a user in iterating over another object (that is iterable).\n",
    "\n",
    "2. We can generate an iterator when we pass the object to the iter() method while we use the __next__() method for iterating. This method helps iterators return the next item available from the object.\n",
    "\n",
    "3. Every iterator is basically iterable but not every iterable is an iterator.\n"
   ]
  },
  {
   "cell_type": "code",
   "execution_count": 7,
   "id": "69526a49-c9c7-4f21-a58e-95e03ba6febc",
   "metadata": {
    "collapsed": true,
    "jupyter": {
     "outputs_hidden": true
    }
   },
   "outputs": [
    {
     "name": "stdout",
     "output_type": "stream",
     "text": [
      "apple\n",
      "banana\n",
      "cherry\n"
     ]
    }
   ],
   "source": [
    "# Example of iterator\n",
    "mytuple = (\"apple\", \"banana\", \"cherry\")\n",
    "myit = iter(mytuple)\n",
    "\n",
    "print(next(myit))\n",
    "print(next(myit))\n",
    "print(next(myit))"
   ]
  },
  {
   "cell_type": "raw",
   "id": "dd73b5d1-2c83-4111-acb6-875e35120675",
   "metadata": {},
   "source": [
    " 6. Explain the concept of generators in Python and how they are defined."
   ]
  },
  {
   "cell_type": "raw",
   "id": "965d9845-88ee-4dda-9853-4fb0d618d8ed",
   "metadata": {},
   "source": [
    "a generator is a function that returns an iterator that produces a sequence of values when iterated over. Generators are useful when we want to produce a large sequence of values, but we don't want to store all of them in memory at once.\n",
    "\n",
    "Syntax of generator:\n",
    "\n",
    "def function_name():\n",
    "    yield statement "
   ]
  },
  {
   "cell_type": "code",
   "execution_count": 8,
   "id": "db2f1a13-e23a-42be-bc65-7ce2cc7cf3b8",
   "metadata": {
    "collapsed": true,
    "jupyter": {
     "outputs_hidden": true
    }
   },
   "outputs": [
    {
     "name": "stdout",
     "output_type": "stream",
     "text": [
      "1\n",
      "1\n",
      "2\n",
      "3\n",
      "5\n",
      "8\n",
      "13\n"
     ]
    }
   ],
   "source": [
    "# example of generator\n",
    "def fib(limit):\n",
    "    a, b = 0, 1\n",
    "    while b < limit:\n",
    "        yield b\n",
    "        a, b = b, a + b\n",
    "\n",
    "# Create a generator object\n",
    "x = fib(20)\n",
    "\n",
    "# Iterate over the generator object and print each value\n",
    "for i in x:\n",
    "    print(i)\n"
   ]
  },
  {
   "cell_type": "raw",
   "id": "e1bbfcc9-44e9-4582-8699-be56e68a95ea",
   "metadata": {},
   "source": [
    " 7. What are the advantages of using generators over regular functions?"
   ]
  },
  {
   "cell_type": "raw",
   "id": "ae6ab23a-85fa-4e33-98da-d368af751f9d",
   "metadata": {},
   "source": [
    "Advantages of using generators over regular functions are :\n",
    "\n",
    "1. Memory Efficiency: One of the biggest advantages of generators is that they are memory efficient. Since a generator yields its values one by one, it does not      need to store all of the values in memory at once. This can be especially useful when working with large data sets, as it reduces the risk of running out of      memory.\n",
    "\n",
    "\n",
    "2. Readability: Generators can make your code easier to read and understand. By breaking up the iteration process into smaller chunks, you can write code that is    more concise and easier to follow.\n",
    "\n",
    "\n",
    "3. Speed: Generators can also be faster than regular loops, especially when working with large data sets. This is because they avoid the overhead of creating a      list or other data structure to store the results."
   ]
  },
  {
   "cell_type": "code",
   "execution_count": 10,
   "id": "5e372d95-4f18-4b0d-bd11-7c88e24d0b74",
   "metadata": {
    "collapsed": true,
    "jupyter": {
     "outputs_hidden": true
    }
   },
   "outputs": [
    {
     "name": "stdout",
     "output_type": "stream",
     "text": [
      "499999500000\n"
     ]
    }
   ],
   "source": [
    "def first_million_numbers():\n",
    "    for i in range(1000000):\n",
    "        yield i\n",
    "gen = first_million_numbers()\n",
    "print(sum(gen))\n",
    "\n",
    "#In this example, the generator first_million_numbers generates the first million numbers and yields them one by one. \n",
    "#The sum function consumes the generator and calculates the sum of all the numbers. \n",
    "#Since the generator yields its values one by one, it does not need to store all of the values in memory at once."
   ]
  },
  {
   "cell_type": "raw",
   "id": "207457a7-9c5f-4b92-946d-d40dadc22b92",
   "metadata": {},
   "source": [
    " 8. What is a lambda function in Python and when is it typically used?"
   ]
  },
  {
   "cell_type": "raw",
   "id": "14bf9be0-fbc0-4c21-8239-99a35e2a6c0f",
   "metadata": {},
   "source": [
    "A lambda function in Python is a small, anonymous function that can have multiple arguments but only one expression. They are written in a single line.\n",
    "\n",
    "Syntax:\n",
    "\n",
    "lambda arguments : expression"
   ]
  },
  {
   "cell_type": "code",
   "execution_count": 11,
   "id": "99e7a973-ca38-4c16-9548-ac80f6ea2572",
   "metadata": {
    "collapsed": true,
    "jupyter": {
     "outputs_hidden": true
    }
   },
   "outputs": [
    {
     "name": "stdout",
     "output_type": "stream",
     "text": [
      "Using function defined with `def` keyword, square: 25\n",
      "Using lambda function, square: 25\n"
     ]
    }
   ],
   "source": [
    "# Example of lambda function\n",
    "def square(y):\n",
    "    return y*y\n",
    "\n",
    "lambda_square = lambda y: y*y\n",
    "print(\"Using function defined with `def` keyword, square:\", square(5))\n",
    "print(\"Using lambda function, square:\", lambda_square(5))\n"
   ]
  },
  {
   "cell_type": "raw",
   "id": "5234fc87-52b0-42af-b974-904073773234",
   "metadata": {},
   "source": [
    " 9. Explain the purpose and usage of the `map()` function in Python."
   ]
  },
  {
   "cell_type": "raw",
   "id": "2f099fee-490c-415d-831a-6f9545af1a54",
   "metadata": {},
   "source": [
    "Map in Python is a function that works as an iterator to return a result after applying a function to every item of an iterable (tuple, lists, etc.). It is used when you want to apply a single transformation function to all the iterable elements.\n",
    "\n",
    "map() is useful when you need to apply a transformation function to each item in an iterable and transform them into a new iterable. map() is one of the tools that support a functional programming style in Python.\n",
    "\n",
    "Syntax:\n",
    "\n",
    "map(fun, iter)\n",
    "\n",
    "fun: It is a function to which map passes each element of given iterable.\n",
    "iter: It is iterable which is to be mapped.\n"
   ]
  },
  {
   "cell_type": "code",
   "execution_count": 13,
   "id": "93cd59d8-f0dd-4390-816f-bbb2c4a413bd",
   "metadata": {
    "collapsed": true,
    "jupyter": {
     "outputs_hidden": true
    }
   },
   "outputs": [
    {
     "name": "stdout",
     "output_type": "stream",
     "text": [
      "[2, 4, 6, 8]\n"
     ]
    }
   ],
   "source": [
    "# Example of map() function\n",
    "\n",
    "# Return double of n\n",
    "def addition(n):\n",
    "    return n + n\n",
    "\n",
    "# We double all numbers using map()\n",
    "numbers = (1, 2, 3, 4)\n",
    "result = map(addition, numbers)\n",
    "print(list(result))\n"
   ]
  },
  {
   "cell_type": "raw",
   "id": "c9db3857-e076-4563-90dc-41f366759864",
   "metadata": {},
   "source": [
    "10. What is the difference between `map()`, `reduce()`, and `filter()` functions in Python?\n",
    "    list:[47,11,42,13]; "
   ]
  },
  {
   "cell_type": "raw",
   "id": "ec6e641f-3c3e-42ad-b886-4f51f4491109",
   "metadata": {},
   "source": [
    "Map: Applies a function to each item in a list, transforming data from one form to another \n",
    "\n",
    "Reduce: Combines the elements of a list into a single result by applying a function to sequential pairs of values \n",
    "\n",
    "Filter: Selects a subset of items from a list based on a condition by creating a list of elements for which a function returns true "
   ]
  },
  {
   "cell_type": "code",
   "execution_count": 22,
   "id": "8a25d53b-73bd-484f-812a-70eaf8ae87a1",
   "metadata": {
    "collapsed": true,
    "jupyter": {
     "outputs_hidden": true
    }
   },
   "outputs": [
    {
     "name": "stdout",
     "output_type": "stream",
     "text": [
      "Square of elements will be: [2209, 121, 1764, 169]\n"
     ]
    }
   ],
   "source": [
    "# Example of Map using given list\n",
    "\n",
    "List = [47,11,42,13]\n",
    "\n",
    "# calculate the square of elements in list using map with lambda function\n",
    "\n",
    "result = list(map(lambda x : x*x,List))\n",
    "print(\"Square of elements will be:\",result)"
   ]
  },
  {
   "cell_type": "code",
   "execution_count": 23,
   "id": "50a43849-d38e-4f43-b79a-30d5e97c9372",
   "metadata": {
    "collapsed": true,
    "jupyter": {
     "outputs_hidden": true
    }
   },
   "outputs": [
    {
     "name": "stdout",
     "output_type": "stream",
     "text": [
      "Sum of elements will be: 113\n"
     ]
    }
   ],
   "source": [
    "# Example of reduce using given list\n",
    "from functools import reduce  \n",
    "\n",
    "List = [47,11,42,13]\n",
    "\n",
    "# calculate the sum of elements in list using reduce with lambda function\n",
    "\n",
    "result = reduce((lambda x, y: x + y), List)\n",
    "print(\"Sum of elements will be:\",result)"
   ]
  },
  {
   "cell_type": "code",
   "execution_count": 24,
   "id": "5116ec26-4595-431a-86f7-4505f8ae2cf7",
   "metadata": {
    "collapsed": true,
    "jupyter": {
     "outputs_hidden": true
    }
   },
   "outputs": [
    {
     "name": "stdout",
     "output_type": "stream",
     "text": [
      "Even elements will be: [42]\n"
     ]
    }
   ],
   "source": [
    "# Example of filter using given list\n",
    "\n",
    "List = [47,11,42,13]\n",
    "\n",
    "# filtering the even elements from list using filter with lambda function\n",
    "\n",
    "result = list(filter(lambda x: (x % 2 == 0), List))\n",
    "print(\"Even elements will be:\",result)"
   ]
  },
  {
   "cell_type": "raw",
   "id": "47bbee61-46f6-49b1-8a12-25cec70c0171",
   "metadata": {},
   "source": [
    "11. Using pen & Paper write the internal mechanism for sum operation using  reduce function on this given  list:             [47,11,42,13];  \n",
    "    (Attach paper image for this answer) in doc or colab notebook"
   ]
  },
  {
   "cell_type": "code",
   "execution_count": null,
   "id": "69b9481d-2bfd-486e-a1d6-549a5ce010e3",
   "metadata": {},
   "outputs": [],
   "source": []
  },
  {
   "cell_type": "markdown",
   "id": "1240676c-d4d6-4d4c-a336-a603ecd4fd8f",
   "metadata": {},
   "source": [
    "# Practical Questions:"
   ]
  },
  {
   "cell_type": "raw",
   "id": "d8341194-0ad4-4a96-88ce-7b161ec4083b",
   "metadata": {},
   "source": [
    " 1. Write a Python function that takes a list of numbers as input and returns the sum of all even numbers in \n",
    "    the list."
   ]
  },
  {
   "cell_type": "code",
   "execution_count": 29,
   "id": "652f3fab-5eed-4bec-abf5-501cfe382620",
   "metadata": {},
   "outputs": [
    {
     "data": {
      "text/plain": [
       "12"
      ]
     },
     "execution_count": 29,
     "metadata": {},
     "output_type": "execute_result"
    }
   ],
   "source": [
    "l = []\n",
    "def even_number(List):\n",
    "    for x in List:\n",
    "        if x%2 == 0:\n",
    "            l.append(x)\n",
    "        else:\n",
    "            continue\n",
    "    return sum(l)\n",
    "\n",
    "even_number([1,2,3,4,6,7])"
   ]
  },
  {
   "cell_type": "raw",
   "id": "262bd904-d69d-4fc0-8dcc-0c5861305f57",
   "metadata": {},
   "source": [
    " 2. Create a Python function that accepts a string and returns the reverse of that string."
   ]
  },
  {
   "cell_type": "code",
   "execution_count": 30,
   "id": "ef4d124f-0115-48a7-8beb-5b3463f9ed58",
   "metadata": {},
   "outputs": [
    {
     "data": {
      "text/plain": [
       "'gnirtS fo esrever fo elpaxe si sihT'"
      ]
     },
     "execution_count": 30,
     "metadata": {},
     "output_type": "execute_result"
    }
   ],
   "source": [
    "def reverse(string):\n",
    "      return string[::-1]\n",
    "\n",
    "reverse(\"This is exaple of reverse of String\")"
   ]
  },
  {
   "cell_type": "raw",
   "id": "0a4a7820-ec40-47c8-8f1e-c4a7265fdfd7",
   "metadata": {},
   "source": [
    " 3. Implement a Python function that takes a list of integers and returns a new list containing the squares of \n",
    "    each number."
   ]
  },
  {
   "cell_type": "code",
   "execution_count": 36,
   "id": "4c528cbb-0d17-4bc5-92ed-11611a0af3dd",
   "metadata": {},
   "outputs": [
    {
     "data": {
      "text/plain": [
       "[1, 4, 1849, 25]"
      ]
     },
     "execution_count": 36,
     "metadata": {},
     "output_type": "execute_result"
    }
   ],
   "source": [
    "l =[]\n",
    "def square_num(num):\n",
    "    for x in num:\n",
    "        l.append(x*x)\n",
    "    return l\n",
    "\n",
    "\n",
    "square_num([1,2,43,5])"
   ]
  },
  {
   "cell_type": "raw",
   "id": "9bd8ef4a-b694-4370-88dc-c7543f264dce",
   "metadata": {},
   "source": [
    " 4. Write a Python function that checks if a given number is prime or not from 1 to 200."
   ]
  },
  {
   "cell_type": "code",
   "execution_count": 41,
   "id": "369fe9b3-db21-4c55-9bfe-75a2ffe3dde4",
   "metadata": {},
   "outputs": [
    {
     "name": "stdout",
     "output_type": "stream",
     "text": [
      "1 is a prime number\n",
      "2 is a prime number\n",
      "3 is a prime number\n",
      "4 is a prime number\n",
      "5 is a prime number\n",
      "6 is a prime number\n",
      "7 is a prime number\n",
      "8 is a prime number\n",
      "9 is a prime number\n",
      "10 is a prime number\n",
      "11 is a prime number\n",
      "12 is a prime number\n",
      "13 is not a prime number\n"
     ]
    }
   ],
   "source": [
    "def prime(x,y):\n",
    "    for x in range(x,y):\n",
    "        if (x % i) == 0:\n",
    "            print(x, \"is not a prime number\")\n",
    "            break\n",
    "        else:\n",
    "            print(x, \"is a prime number\")\n",
    "prime(1,200)"
   ]
  },
  {
   "cell_type": "raw",
   "id": "235d5fd0-919b-4d80-99ad-13d850a9b1ea",
   "metadata": {},
   "source": [
    " 5. Create an iterator class in Python that generates the Fibonacci sequence up to a specified number of \n",
    "terms."
   ]
  },
  {
   "cell_type": "code",
   "execution_count": 42,
   "id": "55b16218-d55b-4e23-ba0d-2ddbf61f9541",
   "metadata": {},
   "outputs": [
    {
     "name": "stdout",
     "output_type": "stream",
     "text": [
      "0\n",
      "1\n",
      "1\n",
      "2\n",
      "3\n",
      "5\n",
      "8\n",
      "13\n",
      "21\n",
      "34\n"
     ]
    }
   ],
   "source": [
    "class FibonacciIterator:\n",
    "    def __init__(self, num_terms):\n",
    "        # Initialize with the number of terms to generate\n",
    "        self.num_terms = num_terms\n",
    "        self.current_term = 0\n",
    "        self.a, self.b = 0, 1  # Starting values of the Fibonacci sequence\n",
    "        \n",
    "    def __iter__(self):\n",
    "        # Return the iterator object itself\n",
    "        return self\n",
    "    \n",
    "    def __next__(self):\n",
    "        if self.current_term >= self.num_terms:\n",
    "            # Stop iteration if the number of terms has been reached\n",
    "            raise StopIteration\n",
    "        \n",
    "        # Return the current Fibonacci number\n",
    "        if self.current_term == 0:\n",
    "            value = 0\n",
    "        elif self.current_term == 1:\n",
    "            value = 1\n",
    "        else:\n",
    "            value = self.a + self.b\n",
    "            self.a, self.b = self.b, value\n",
    "        \n",
    "        # Move to the next term\n",
    "        self.current_term += 1\n",
    "        return value\n",
    "\n",
    "# Example usage:\n",
    "fib_iterator = FibonacciIterator(10)\n",
    "for number in fib_iterator:\n",
    "    print(number)\n"
   ]
  },
  {
   "cell_type": "raw",
   "id": "338dfe17-a428-46bf-94d6-54dd4a9661d2",
   "metadata": {},
   "source": [
    " 6. Write a generator function in Python that yields the powers of 2 up to a given exponent."
   ]
  },
  {
   "cell_type": "code",
   "execution_count": 43,
   "id": "cb7bca01-b532-4697-9ef6-6b1814fda18b",
   "metadata": {},
   "outputs": [
    {
     "name": "stdout",
     "output_type": "stream",
     "text": [
      "1\n",
      "2\n",
      "4\n",
      "8\n",
      "16\n",
      "32\n"
     ]
    }
   ],
   "source": [
    "def powers_of_two(max_exponent):\n",
    "    for exponent in range(max_exponent + 1):\n",
    "        yield 2 ** exponent\n",
    "\n",
    "for power in powers_of_two(5):\n",
    "    print(power)\n"
   ]
  },
  {
   "cell_type": "raw",
   "id": "2a21953f-7f71-43f6-ac1b-c049c9157948",
   "metadata": {},
   "source": [
    " 7. Implement a generator function that reads a file line by line and yields each line as a string.\n",
    " "
   ]
  },
  {
   "cell_type": "code",
   "execution_count": 1,
   "id": "4d73bff1-dc30-4524-aef1-5f68a7828e0c",
   "metadata": {},
   "outputs": [
    {
     "name": "stdout",
     "output_type": "stream",
     "text": [
      "﻿Name:                  Kajal Tyagi\n",
      "Reg. Email:                 tyagi.kajalvats8126@gmail.com\n",
      "Course Name:         Data-Science with Generative AI Course July24’\n",
      "Assignment Name:        Data Structures in python\n",
      "Submission Date:        28-08-2024\n",
      "Git link:    https://github.com/hellokajal/PWassignments/blob/main/Data_Structure_Assignment2.ipynb\n",
      "Drive link:                None\n"
     ]
    }
   ],
   "source": [
    "def read_file_lines(file_path):\n",
    "    try:\n",
    "        with open(file_path, 'r') as file:\n",
    "            # Read the file line by line\n",
    "            for line in file:\n",
    "                yield line.rstrip('\\n')  # Yield each line, stripping the newline character\n",
    "    except FileNotFoundError:\n",
    "        print(f\"Error: The file {file_path} was not found.\")\n",
    "    except IOError as e:\n",
    "        print(f\"Error: An I/O error occurred. {e}\")\n",
    "\n",
    "# Example usage:\n",
    "file_path = 'ASSIGNMENT_FORMAT.txt'\n",
    "for line in read_file_lines(file_path):\n",
    "    print(line)\n"
   ]
  },
  {
   "cell_type": "raw",
   "id": "f4d6bef8-7500-4096-833c-f90089055359",
   "metadata": {},
   "source": [
    " 8. Use a lambda function in Python to sort a list of tuples based on the second element of each tuple."
   ]
  },
  {
   "cell_type": "code",
   "execution_count": 45,
   "id": "f589e4c9-a632-4312-bdfc-005d173b33ff",
   "metadata": {},
   "outputs": [
    {
     "name": "stdout",
     "output_type": "stream",
     "text": [
      "[(1, 'apple'), (2, 'banana'), (3, 'cherry'), (4, 'date')]\n"
     ]
    }
   ],
   "source": [
    "# List of tuples\n",
    "tuples_list = [(1, 'apple'), (3, 'cherry'), (4, 'date'),(2, 'banana')]\n",
    "\n",
    "# Sort the list of tuples based on the second element of each tuple using a lambda function\n",
    "sorted_list = sorted(tuples_list, key=lambda x: x[1])\n",
    "\n",
    "# Output the sorted list\n",
    "print(sorted_list)\n"
   ]
  },
  {
   "cell_type": "raw",
   "id": "caf78e27-6ff9-42ea-af13-7cd5ea6fbfc9",
   "metadata": {},
   "source": [
    " 9. Write a Python program that uses `map()` to convert a list of temperatures from Celsius to Fahrenheit."
   ]
  },
  {
   "cell_type": "code",
   "execution_count": 46,
   "id": "3dcf8f67-8501-4a8e-b63a-f9bad3f59366",
   "metadata": {},
   "outputs": [
    {
     "name": "stdout",
     "output_type": "stream",
     "text": [
      "[32.0, 68.0, 98.6, 212.0]\n"
     ]
    }
   ],
   "source": [
    "def celsius_to_fahrenheit(celsius):\n",
    "    return (celsius * 9/5) + 32\n",
    "\n",
    "# List of temperatures in Celsius\n",
    "celsius_temps = [0, 20, 37, 100]\n",
    "\n",
    "# Use map() to apply the conversion function to each temperature in the list\n",
    "fahrenheit_temps = list(map(celsius_to_fahrenheit, celsius_temps))\n",
    "\n",
    "# Output the list of temperatures in Fahrenheit\n",
    "print(fahrenheit_temps)\n"
   ]
  },
  {
   "cell_type": "raw",
   "id": "72822ebc-9c9e-4b97-9901-ab374ca0522a",
   "metadata": {},
   "source": [
    " 10. Create a Python program that uses `filter()` to remove all the vowels from a given string."
   ]
  },
  {
   "cell_type": "code",
   "execution_count": 47,
   "id": "55165760-89dc-4881-b987-65b80c347394",
   "metadata": {},
   "outputs": [
    {
     "name": "stdout",
     "output_type": "stream",
     "text": [
      "Hll, Wrld!\n"
     ]
    }
   ],
   "source": [
    "def is_not_vowel(char):\n",
    "    vowels = 'aeiouAEIOU'\n",
    "    return char not in vowels\n",
    "\n",
    "def remove_vowels(input_string):\n",
    "    # Use filter() to keep only non-vowel characters\n",
    "    filtered_chars = filter(is_not_vowel, input_string)\n",
    "    # Join the filtered characters into a new string\n",
    "    return ''.join(filtered_chars)\n",
    "\n",
    "# Example usage:\n",
    "input_string = \"Hello, World!\"\n",
    "result_string = remove_vowels(input_string)\n",
    "print(result_string)\n"
   ]
  },
  {
   "cell_type": "raw",
   "id": "87cb9a55-0cda-4429-8a40-0f0cbbd1be9e",
   "metadata": {},
   "source": [
    "11) Imagine an accounting routine used in a book shop. It works on a list with sublists, which look like this:\n",
    "    \n",
    "    Order Number             Book Tittle and Author               Quantity           Price Per Item\n",
    "    34587                    Learning Python,Mark Lutz            4                  40.95\n",
    "    98762                    Programming Python,Mark Lutz         5                  56.80\n",
    "    77226                    Head First Python,Paul Barry         3                  32.95\n",
    "    88112                    Einfuhrung in Python,Bernd Klein     3                  24.99\n",
    "    \n",
    "   i) Write a Python program, which returns a list with 2-tuples. Each tuple consists of the order number and the \n",
    "      product of the price per item and the quantity. The product should be increased by 10,- € if the value of the \n",
    "      order is smaller than 100,00 €.\n",
    "    \n",
    "   ii) Write a Python program using lambda and map"
   ]
  },
  {
   "cell_type": "code",
   "execution_count": 2,
   "id": "6a0ecb4a-be11-4c06-a30b-d4cc4bbe7100",
   "metadata": {
    "tags": []
   },
   "outputs": [
    {
     "name": "stdout",
     "output_type": "stream",
     "text": [
      "[(34587, 163.8), (98762, 284.0), (77226, 108.85000000000001), (88112, 84.97)]\n"
     ]
    }
   ],
   "source": [
    "# Define the list of orders\n",
    "orders = [\n",
    "    [34587, \"Learning Python,Mark Lutz\", 4, 40.95],\n",
    "    [98762, \"Programming Python,Mark Lutz\", 5, 56.80],\n",
    "    [77226, \"Head First Python,Paul Barry\", 3, 32.95],\n",
    "    [88112, \"Einfuhrung in Python,Bernd Klein\", 3, 24.99]\n",
    "]\n",
    "\n",
    "# Function to process each order\n",
    "def process_order(order):\n",
    "    order_number, _, quantity, price_per_item = order\n",
    "    total_price = quantity * price_per_item\n",
    "    if total_price < 100:\n",
    "        total_price += 10\n",
    "    return (order_number, total_price)\n",
    "\n",
    "# Process all orders\n",
    "processed_orders = list(map(process_order, orders))\n",
    "\n",
    "print(processed_orders)\n"
   ]
  },
  {
   "cell_type": "code",
   "execution_count": 3,
   "id": "f251877e-e8fa-4022-8ad3-34d0080f8333",
   "metadata": {
    "tags": []
   },
   "outputs": [
    {
     "name": "stdout",
     "output_type": "stream",
     "text": [
      "[(34587, 163.8), (98762, 284.0), (77226, 108.85000000000001), (88112, 84.97)]\n"
     ]
    }
   ],
   "source": [
    "# Define the list of orders\n",
    "orders = [\n",
    "    [34587, \"Learning Python,Mark Lutz\", 4, 40.95],\n",
    "    [98762, \"Programming Python,Mark Lutz\", 5, 56.80],\n",
    "    [77226, \"Head First Python,Paul Barry\", 3, 32.95],\n",
    "    [88112, \"Einfuhrung in Python,Bernd Klein\", 3, 24.99]\n",
    "]\n",
    "\n",
    "# Use lambda and map to process the orders\n",
    "processed_orders = list(map(\n",
    "    lambda order: (\n",
    "        order[0],\n",
    "        (order[2] * order[3]) + 10 if order[2] * order[3] < 100 else order[2] * order[3]\n",
    "    ),\n",
    "    orders\n",
    "))\n",
    "\n",
    "print(processed_orders)\n"
   ]
  }
 ],
 "metadata": {
  "kernelspec": {
   "display_name": "Python 3 (ipykernel)",
   "language": "python",
   "name": "python3"
  },
  "language_info": {
   "codemirror_mode": {
    "name": "ipython",
    "version": 3
   },
   "file_extension": ".py",
   "mimetype": "text/x-python",
   "name": "python",
   "nbconvert_exporter": "python",
   "pygments_lexer": "ipython3",
   "version": "3.10.8"
  }
 },
 "nbformat": 4,
 "nbformat_minor": 5
}
