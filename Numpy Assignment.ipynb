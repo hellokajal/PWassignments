{
 "cells": [
  {
   "cell_type": "markdown",
   "id": "ff60726b-9cb8-4636-b875-bbd405473285",
   "metadata": {},
   "source": [
    "### Theoretical Questions:"
   ]
  },
  {
   "cell_type": "raw",
   "id": "2776245c-050f-4093-9a6e-002b6adf24c0",
   "metadata": {},
   "source": [
    " 1. Explain the purpose and advantages of NumPy in scientific computing and data analysis. How does it \n",
    "enhance Python's capabilities for numerical operations."
   ]
  },
  {
   "cell_type": "raw",
   "id": "f3ef1238-3b2e-4f47-b354-5b8a9e0c7ffe",
   "metadata": {},
   "source": [
    "Purpose of NumPy:\n",
    "\n",
    "1.Efficient Array Handling: NumPy provides a powerful N-dimensional array object (ndarray) that allows for efficient storage and manipulation of large     datasets.\n",
    "2.Numerical Computation: It offers a suite of mathematical functions to perform operations on arrays, making it ideal for numerical computations.\n",
    "3.Data Analysis: It serves as the foundation for many other libraries (like SciPy, Pandas, and Matplotlib) that are used for data analysis, machine learning, and scientific research.\n",
    "\n",
    "Advantages of NumPy\n",
    "1. Performance\n",
    "2.Convenience\n",
    "3.Ease of Use\n",
    "4.Interoperability.\n",
    "\n",
    "\n",
    "Enhancements to Python’s Capabilities:\n",
    "\n",
    "1.Array-Oriented Programming: NumPy promotes a different programming paradigm, where operations can be applied to entire arrays rather than individual elements. This leads to more readable and concise code.\n",
    "\n",
    "2.Vectorization: NumPy allows you to write operations in a vectorized form, which is not only faster but also results in cleaner and more maintainable code compared to traditional loops.\n",
    "\n",
    "3.Support for Multidimensional Data: Unlike Python lists, which are one-dimensional, NumPy arrays can be multi-dimensional, enabling complex data manipulations, such as matrix operations.\n",
    "\n",
    "4.Statistical and Mathematical Operations: NumPy simplifies complex calculations with built-in functions for statistical analysis, which can be cumbersome to implement from scratch in pure Python."
   ]
  },
  {
   "cell_type": "raw",
   "id": "f3b7f416-a76f-4b0d-8752-4c7b85d42668",
   "metadata": {},
   "source": [
    "2. Compare and contrast np.mean() and np.average() functions in NumPy. When would you use one over the \n",
    "other?"
   ]
  },
  {
   "cell_type": "raw",
   "id": "d9391cda-fedd-4933-b0f8-9d4d81a4d198",
   "metadata": {},
   "source": [
    "Key Differences\n",
    "\n",
    "1. Functionality:\n",
    "\n",
    "np.mean() is strictly for calculating the arithmetic mean.\n",
    "np.average() can calculate both weighted and unweighted averages, providing more flexibility.\n",
    "\n",
    "2.Parameters:\n",
    "\n",
    "np.average() has an additional weights parameter that np.mean() does not have.\n",
    "\n",
    "3.Use Cases:\n",
    "\n",
    "Use np.mean() when you simply need the arithmetic mean of a dataset without considering any weights.\n",
    "Use np.average() when you need to calculate a mean that takes into account the relative importance of each element (e.g., if certain data points should have more influence on the average than others).\n",
    "\n",
    "\n",
    "When to Use Each\n",
    "1. Use np.mean():\n",
    "\n",
    "a.When you want a straightforward calculation of the mean of an array.\n",
    "b.When all data points are equally significant.\n",
    "\n",
    "2.Use np.average():\n",
    "\n",
    "a.When you need to calculate a weighted average.\n",
    "b.When dealing with datasets where some values should contribute more to the average than others (e.g., grades in a class where exams are weighted differently)."
   ]
  },
  {
   "cell_type": "raw",
   "id": "d2f74f18-2c2d-44b3-b09c-08c878820fa3",
   "metadata": {},
   "source": [
    " 3. Describe the methods for reversing a NumPy array along different axes. Provide examples for 1D and 2D \n",
    "arrays"
   ]
  },
  {
   "cell_type": "raw",
   "id": "33a80e7a-5cb6-4f02-9805-7701c2bff2f3",
   "metadata": {},
   "source": [
    "1D Array: Use slicing ([::-1]) to reverse the entire array.\n",
    "2D Array: Use slicing with the desired axis:\n",
    "For rows (axis 0): [::-1, :]\n",
    "For columns (axis 1): [:, ::-1]"
   ]
  },
  {
   "cell_type": "code",
   "execution_count": 1,
   "id": "08599031-af75-4775-b940-49dea1649d12",
   "metadata": {},
   "outputs": [
    {
     "name": "stdout",
     "output_type": "stream",
     "text": [
      "Original 1D Array: [1 2 3 4 5]\n",
      "Reversed 1D Array: [5 4 3 2 1]\n"
     ]
    }
   ],
   "source": [
    "#Reversing a 1D Array\n",
    "import numpy as np\n",
    "\n",
    "# Create a 1D array\n",
    "arr_1d = np.array([1, 2, 3, 4, 5])\n",
    "\n",
    "# Reverse the array\n",
    "reversed_arr_1d = arr_1d[::-1]\n",
    "\n",
    "print(\"Original 1D Array:\", arr_1d)\n",
    "print(\"Reversed 1D Array:\", reversed_arr_1d)\n"
   ]
  },
  {
   "cell_type": "code",
   "execution_count": 2,
   "id": "acacf5de-d809-47f0-a264-66a5c96d5038",
   "metadata": {},
   "outputs": [
    {
     "name": "stdout",
     "output_type": "stream",
     "text": [
      "Original 2D Array:\n",
      " [[1 2 3]\n",
      " [4 5 6]\n",
      " [7 8 9]]\n",
      "Reversed 2D Array along Axis 0:\n",
      " [[7 8 9]\n",
      " [4 5 6]\n",
      " [1 2 3]]\n"
     ]
    }
   ],
   "source": [
    "#Reversing a 2D Array\n",
    "# Create a 2D array\n",
    "arr_2d = np.array([[1, 2, 3],\n",
    "                   [4, 5, 6],\n",
    "                   [7, 8, 9]])\n",
    "\n",
    "# Reverse the array along axis 0\n",
    "reversed_arr_2d_axis0 = arr_2d[::-1, :]\n",
    "\n",
    "print(\"Original 2D Array:\\n\", arr_2d)\n",
    "print(\"Reversed 2D Array along Axis 0:\\n\", reversed_arr_2d_axis0)\n"
   ]
  },
  {
   "cell_type": "raw",
   "id": "8ce5a8d6-a2eb-4af9-8472-44f61bc80b32",
   "metadata": {},
   "source": [
    " 4. How can you determine the data type of elements in a NumPy array? Discuss the importance of data types \n",
    "in memory management and performance."
   ]
  },
  {
   "cell_type": "raw",
   "id": "4d36f485-3c3b-412b-ad5c-92c216248e26",
   "metadata": {},
   "source": [
    "Determining the data type of elements in a NumPy array is straightforward with the .dtype attribute. Understanding and selecting appropriate data types is critical for optimizing memory usage, enhancing performance, ensuring type safety, and maintaining precision in numerical computations. Choosing the right data type can lead to significant improvements in both the efficiency of code execution and resource utilization."
   ]
  },
  {
   "cell_type": "raw",
   "id": "05f1ff56-0063-4237-9549-f674db146e85",
   "metadata": {},
   "source": [
    " 5. Define ndarrays in NumPy and explain their key features. How do they differ from standard Python lists?"
   ]
  },
  {
   "cell_type": "raw",
   "id": "fe145376-f6d1-497b-99cc-e220df93ff6a",
   "metadata": {},
   "source": [
    "Ndarrays are a powerful and flexible data structure in NumPy that provide significant advantages over standard Python lists, especially for numerical and scientific computing. Their homogeneous data types, memory efficiency, support for multidimensional data, and rich functionality make them essential for effective data manipulation and analysis in Python."
   ]
  },
  {
   "cell_type": "raw",
   "id": "51efe8b2-8bfe-43f9-8744-9785e0c49d1b",
   "metadata": {},
   "source": [
    " 6. Analyze the performance benefits of NumPy arrays over Python lists for large-scale numerical operations."
   ]
  },
  {
   "cell_type": "raw",
   "id": "0a2c7a39-3462-49fb-adf7-82e0a295b1e9",
   "metadata": {},
   "source": [
    "The performance benefits of using NumPy arrays over Python lists for large-scale numerical operations are substantial. These advantages include memory efficiency due to contiguous storage, speed through vectorized operations and optimized built-in functions, and features like broadcasting that facilitate efficient calculations. For any application requiring extensive numerical computations, NumPy is typically the preferred choice due to these performance enhancements."
   ]
  },
  {
   "cell_type": "raw",
   "id": "e26ed039-5475-46b3-b363-8f7131f2ced8",
   "metadata": {},
   "source": [
    " 7. Compare vstack() and hstack() functions in NumPy. Provide examples demonstrating their usage and \n",
    "output."
   ]
  },
  {
   "cell_type": "raw",
   "id": "abf9f918-b743-4f19-9fed-b9b2e5fc0573",
   "metadata": {},
   "source": [
    "vstack():\n",
    "\n",
    "1.Stacks arrays vertically.\n",
    "2.Requires the same number of columns in the input arrays.\n",
    "\n",
    "hstack():\n",
    "\n",
    "1.Stacks arrays horizontally.\n",
    "2.Requires the same number of rows in the input arrays."
   ]
  },
  {
   "cell_type": "code",
   "execution_count": 4,
   "id": "0e0e5198-d470-4238-b66c-8f9cbd270d82",
   "metadata": {},
   "outputs": [
    {
     "name": "stdout",
     "output_type": "stream",
     "text": [
      "Array 1:\n",
      " [[1 2]\n",
      " [3 4]]\n",
      "Array 2:\n",
      " [[5 6]\n",
      " [7 8]]\n",
      "hstack Result:\n",
      " [[1 2 5 6]\n",
      " [3 4 7 8]]\n"
     ]
    }
   ],
   "source": [
    "# example of hstack()\n",
    "# Create two 2D arrays\n",
    "array1 = np.array([[1, 2],\n",
    "                   [3, 4]])\n",
    "\n",
    "array2 = np.array([[5, 6],\n",
    "                   [7, 8]])\n",
    "\n",
    "# Use hstack to stack the arrays horizontally\n",
    "hstack_result = np.hstack((array1, array2))\n",
    "\n",
    "print(\"Array 1:\\n\", array1)\n",
    "print(\"Array 2:\\n\", array2)\n",
    "print(\"hstack Result:\\n\", hstack_result)\n"
   ]
  },
  {
   "cell_type": "code",
   "execution_count": 5,
   "id": "f035e7ee-325d-4847-a4b4-68e113bc9643",
   "metadata": {},
   "outputs": [
    {
     "name": "stdout",
     "output_type": "stream",
     "text": [
      "Array 1:\n",
      " [[1 2 3]\n",
      " [4 5 6]]\n",
      "Array 2:\n",
      " [[ 7  8  9]\n",
      " [10 11 12]]\n",
      "vstack Result:\n",
      " [[ 1  2  3]\n",
      " [ 4  5  6]\n",
      " [ 7  8  9]\n",
      " [10 11 12]]\n"
     ]
    }
   ],
   "source": [
    "# example of vstack()\n",
    "import numpy as np\n",
    "\n",
    "# Create two 2D arrays\n",
    "array1 = np.array([[1, 2, 3],\n",
    "                   [4, 5, 6]])\n",
    "\n",
    "array2 = np.array([[7, 8, 9],\n",
    "                   [10, 11, 12]])\n",
    "\n",
    "# Use vstack to stack the arrays vertically\n",
    "vstack_result = np.vstack((array1, array2))\n",
    "\n",
    "print(\"Array 1:\\n\", array1)\n",
    "print(\"Array 2:\\n\", array2)\n",
    "print(\"vstack Result:\\n\", vstack_result)\n"
   ]
  },
  {
   "cell_type": "raw",
   "id": "e20e95ae-705c-49ab-bbbb-95d9b197918a",
   "metadata": {},
   "source": [
    " 8. Explain the differences between fliplr() and flipud() methods in NumPy, including their effects on various \n",
    "array dimensions"
   ]
  },
  {
   "cell_type": "raw",
   "id": "0e44b3bc-68d5-4e3d-a63a-c2c91072e663",
   "metadata": {},
   "source": [
    "1.Direction of Flipping:\n",
    "\n",
    "fliplr(): Flips the array left to right (horizontally).\n",
    "flipud(): Flips the array up to down (vertically).\n",
    "\n",
    "2.Impact on Dimensions:\n",
    "\n",
    "Both functions require the array to be at least 2D for meaningful use, but they can be applied to reshaped 1D arrays. They will reverse the order of elements but in different orientations."
   ]
  },
  {
   "cell_type": "raw",
   "id": "7eb882d4-3424-40f5-b6c3-7657d4b19697",
   "metadata": {},
   "source": [
    " 9. Discuss the functionality of the array_split() method in NumPy. How does it handle uneven splits?"
   ]
  },
  {
   "cell_type": "raw",
   "id": "75d457a6-f3a6-4d6f-a21d-ff9830edacb1",
   "metadata": {},
   "source": [
    "1.Versatility: The array_split() function allows for both even and uneven splitting of arrays, providing flexibility in how arrays are divided for further processing.\n",
    "2.Ease of Use: It handles edge cases internally, ensuring that users can easily split arrays without needing to manually manage the sizes of the resulting sub-arrays.\n",
    "3.Output: The function returns a list of arrays, which can be used for further computations or manipulations as needed.\n",
    "\n",
    "\n",
    "Overall, array_split() is a powerful tool in NumPy for managing array data effectively, especially in scenarios where data needs to be segmented for analysis or processing."
   ]
  },
  {
   "cell_type": "raw",
   "id": "85f31e2e-6e28-462e-afa4-6ed1a107fa2d",
   "metadata": {},
   "source": [
    " 10. Explain the concepts of vectorization and broadcasting in NumPy. How do they contribute to efficient array \n",
    "operations?"
   ]
  },
  {
   "cell_type": "raw",
   "id": "c92b21df-b5d5-4bef-b361-394c1fd30d7c",
   "metadata": {},
   "source": [
    "1.Vectorization allows for efficient operations on entire arrays simultaneously, leveraging optimized low-level implementations.\n",
    "2.Broadcasting enables operations between arrays of different shapes by stretching the smaller array, thereby maintaining efficiency and reducing memory usage.\n",
    "\n",
    "Together, these concepts make NumPy a highly efficient library for numerical computing, facilitating rapid array operations and allowing for straightforward implementations of complex mathematical algorithms."
   ]
  },
  {
   "cell_type": "markdown",
   "id": "72586f3a-8a16-492b-8f87-857e5d7179f9",
   "metadata": {},
   "source": [
    "### Practical Questions:"
   ]
  },
  {
   "cell_type": "raw",
   "id": "35b9ec0b-810e-4686-a838-64f2547b68d3",
   "metadata": {},
   "source": [
    " 1. Create a 3x3 NumPy array with random integers between 1 and 100. Then, interchange its rows and columns."
   ]
  },
  {
   "cell_type": "code",
   "execution_count": 6,
   "id": "41294ba3-0610-4bd2-9603-47d0a1b16985",
   "metadata": {},
   "outputs": [
    {
     "name": "stdout",
     "output_type": "stream",
     "text": [
      "Original Array:\n",
      " [[40 31 92]\n",
      " [38 90 88]\n",
      " [48 56  6]]\n",
      "Transposed Array:\n",
      " [[40 38 48]\n",
      " [31 90 56]\n",
      " [92 88  6]]\n"
     ]
    }
   ],
   "source": [
    "import numpy as np\n",
    "\n",
    "# Create a 3x3 array with random integers between 1 and 100\n",
    "array_3x3 = np.random.randint(1, 101, size=(3, 3))\n",
    "\n",
    "print(\"Original Array:\\n\", array_3x3)\n",
    "\n",
    "# Interchange rows and columns (transpose the array)\n",
    "transposed_array = np.transpose(array_3x3)\n",
    "\n",
    "print(\"Transposed Array:\\n\", transposed_array)\n"
   ]
  },
  {
   "cell_type": "raw",
   "id": "f0d080ee-7396-464d-b07b-3e550a91260d",
   "metadata": {},
   "source": [
    " 2. Generate a 1D NumPy array with 10 elements. Reshape it into a 2x5 array, then into a 5x2 array."
   ]
  },
  {
   "cell_type": "code",
   "execution_count": 7,
   "id": "fcfb3698-b4d0-4093-9ace-d0c93540b529",
   "metadata": {},
   "outputs": [
    {
     "name": "stdout",
     "output_type": "stream",
     "text": [
      "Original 1D Array:\n",
      " [0 1 2 3 4 5 6 7 8 9]\n",
      "\n",
      "Reshaped to 2x5 Array:\n",
      " [[0 1 2 3 4]\n",
      " [5 6 7 8 9]]\n",
      "\n",
      "Reshaped to 5x2 Array:\n",
      " [[0 1]\n",
      " [2 3]\n",
      " [4 5]\n",
      " [6 7]\n",
      " [8 9]]\n"
     ]
    }
   ],
   "source": [
    "import numpy as np\n",
    "\n",
    "# Generate a 1D NumPy array with 10 elements\n",
    "array_1d = np.arange(10)\n",
    "\n",
    "print(\"Original 1D Array:\\n\", array_1d)\n",
    "\n",
    "# Reshape into a 2x5 array\n",
    "array_2x5 = array_1d.reshape(2, 5)\n",
    "print(\"\\nReshaped to 2x5 Array:\\n\", array_2x5)\n",
    "\n",
    "# Reshape into a 5x2 array\n",
    "array_5x2 = array_1d.reshape(5, 2)\n",
    "print(\"\\nReshaped to 5x2 Array:\\n\", array_5x2)\n"
   ]
  },
  {
   "cell_type": "raw",
   "id": "552e240c-de83-4764-9365-df55dfd8a380",
   "metadata": {},
   "source": [
    " 3. Create a 4x4 NumPy array with random float values. Add a border of zeros around it, resulting in a 6x6 array."
   ]
  },
  {
   "cell_type": "code",
   "execution_count": 8,
   "id": "e5ab68c4-dfc2-4fcf-84ef-feaad197ee01",
   "metadata": {},
   "outputs": [
    {
     "name": "stdout",
     "output_type": "stream",
     "text": [
      "Original 4x4 Array:\n",
      " [[0.30951105 0.86675317 0.90451269 0.62130739]\n",
      " [0.67478269 0.4965748  0.76365611 0.49060703]\n",
      " [0.41715964 0.01824656 0.38382128 0.35884263]\n",
      " [0.81194757 0.29449487 0.59900188 0.07330882]]\n",
      "\n",
      "6x6 Array with Border of Zeros:\n",
      " [[0.         0.         0.         0.         0.         0.        ]\n",
      " [0.         0.30951105 0.86675317 0.90451269 0.62130739 0.        ]\n",
      " [0.         0.67478269 0.4965748  0.76365611 0.49060703 0.        ]\n",
      " [0.         0.41715964 0.01824656 0.38382128 0.35884263 0.        ]\n",
      " [0.         0.81194757 0.29449487 0.59900188 0.07330882 0.        ]\n",
      " [0.         0.         0.         0.         0.         0.        ]]\n"
     ]
    }
   ],
   "source": [
    "import numpy as np\n",
    "\n",
    "# Create a 4x4 array with random float values\n",
    "array_4x4 = np.random.rand(4, 4)\n",
    "\n",
    "print(\"Original 4x4 Array:\\n\", array_4x4)\n",
    "\n",
    "# Add a border of zeros around the array\n",
    "array_with_border = np.pad(array_4x4, pad_width=1, mode='constant', constant_values=0)\n",
    "\n",
    "print(\"\\n6x6 Array with Border of Zeros:\\n\", array_with_border)\n"
   ]
  },
  {
   "cell_type": "raw",
   "id": "021aac81-2815-4bcc-b01f-eec35b92d7a3",
   "metadata": {},
   "source": [
    " 4. Using NumPy, create an array of integers from 10 to 60 with a step of 5."
   ]
  },
  {
   "cell_type": "code",
   "execution_count": 9,
   "id": "5a370329-c9a7-40ed-826f-95b24fa6040c",
   "metadata": {},
   "outputs": [
    {
     "name": "stdout",
     "output_type": "stream",
     "text": [
      "Array of integers from 10 to 60 with a step of 5:\n",
      " [10 15 20 25 30 35 40 45 50 55 60]\n"
     ]
    }
   ],
   "source": [
    "import numpy as np\n",
    "\n",
    "# Create an array of integers from 10 to 60 with a step of 5\n",
    "array_integers = np.arange(10, 61, 5)\n",
    "\n",
    "print(\"Array of integers from 10 to 60 with a step of 5:\\n\", array_integers)\n"
   ]
  },
  {
   "cell_type": "raw",
   "id": "a7efc521-526d-4f9f-95b5-2abfb80efd43",
   "metadata": {},
   "source": [
    "5. Create a NumPy array of strings ['python', 'numpy', 'pandas']. Apply different case transformations \n",
    "(uppercase, lowercase, title case, etc.) to each element"
   ]
  },
  {
   "cell_type": "code",
   "execution_count": 10,
   "id": "a102806f-4093-48f3-9b28-a59c248ff00b",
   "metadata": {},
   "outputs": [
    {
     "name": "stdout",
     "output_type": "stream",
     "text": [
      "Original Array:\n",
      " ['python' 'numpy' 'pandas']\n",
      "\n",
      "Uppercase Transformation:\n",
      " ['PYTHON' 'NUMPY' 'PANDAS']\n",
      "\n",
      "Lowercase Transformation:\n",
      " ['python' 'numpy' 'pandas']\n",
      "\n",
      "Title Case Transformation:\n",
      " ['Python' 'Numpy' 'Pandas']\n"
     ]
    }
   ],
   "source": [
    "import numpy as np\n",
    "\n",
    "# Create a NumPy array of strings\n",
    "string_array = np.array(['python', 'numpy', 'pandas'])\n",
    "\n",
    "# Apply different case transformations\n",
    "uppercase_array = np.char.upper(string_array)\n",
    "lowercase_array = np.char.lower(string_array)\n",
    "titlecase_array = np.char.title(string_array)\n",
    "\n",
    "# Print the results\n",
    "print(\"Original Array:\\n\", string_array)\n",
    "print(\"\\nUppercase Transformation:\\n\", uppercase_array)\n",
    "print(\"\\nLowercase Transformation:\\n\", lowercase_array)\n",
    "print(\"\\nTitle Case Transformation:\\n\", titlecase_array)\n"
   ]
  },
  {
   "cell_type": "raw",
   "id": "e4980f93-223d-425f-844d-ea63334df03f",
   "metadata": {},
   "source": [
    " 6. Generate a NumPy array of words. Insert a space between each character of every word in the array."
   ]
  },
  {
   "cell_type": "code",
   "execution_count": 11,
   "id": "e0eba54e-6487-497c-91b1-1969533e9f8e",
   "metadata": {},
   "outputs": [
    {
     "name": "stdout",
     "output_type": "stream",
     "text": [
      "Original Array:\n",
      " ['python' 'numpy' 'pandas']\n",
      "\n",
      "Words with Spaces Between Characters:\n",
      " ['p y t h o n' 'n u m p y' 'p a n d a s']\n"
     ]
    }
   ],
   "source": [
    "import numpy as np\n",
    "\n",
    "# Create a NumPy array of words\n",
    "words_array = np.array(['python', 'numpy', 'pandas'])\n",
    "\n",
    "# Insert a space between each character of every word\n",
    "spaced_words = np.char.join(' ', words_array)\n",
    "\n",
    "# Print the results\n",
    "print(\"Original Array:\\n\", words_array)\n",
    "print(\"\\nWords with Spaces Between Characters:\\n\", spaced_words)\n"
   ]
  },
  {
   "cell_type": "raw",
   "id": "67ec9bfc-c11a-4ccd-9889-59465cc64258",
   "metadata": {},
   "source": [
    " 7. Create two 2D NumPy arrays and perform element-wise addition, subtraction, multiplication, and division."
   ]
  },
  {
   "cell_type": "code",
   "execution_count": 12,
   "id": "0316dc67-2563-4ed3-b553-0fe88cd58996",
   "metadata": {},
   "outputs": [
    {
     "name": "stdout",
     "output_type": "stream",
     "text": [
      "Array 1:\n",
      " [[1 2 3]\n",
      " [4 5 6]]\n",
      "Array 2:\n",
      " [[ 7  8  9]\n",
      " [10 11 12]]\n",
      "\n",
      "Element-wise Addition:\n",
      " [[ 8 10 12]\n",
      " [14 16 18]]\n",
      "\n",
      "Element-wise Subtraction:\n",
      " [[-6 -6 -6]\n",
      " [-6 -6 -6]]\n",
      "\n",
      "Element-wise Multiplication:\n",
      " [[ 7 16 27]\n",
      " [40 55 72]]\n",
      "\n",
      "Element-wise Division:\n",
      " [[0.14285714 0.25       0.33333333]\n",
      " [0.4        0.45454545 0.5       ]]\n"
     ]
    }
   ],
   "source": [
    "import numpy as np\n",
    "\n",
    "# Create two 2D NumPy arrays\n",
    "array1 = np.array([[1, 2, 3],\n",
    "                   [4, 5, 6]])\n",
    "\n",
    "array2 = np.array([[7, 8, 9],\n",
    "                   [10, 11, 12]])\n",
    "\n",
    "# Perform element-wise operations\n",
    "addition = array1 + array2\n",
    "subtraction = array1 - array2\n",
    "multiplication = array1 * array2\n",
    "division = array1 / array2\n",
    "\n",
    "# Print the results\n",
    "print(\"Array 1:\\n\", array1)\n",
    "print(\"Array 2:\\n\", array2)\n",
    "print(\"\\nElement-wise Addition:\\n\", addition)\n",
    "print(\"\\nElement-wise Subtraction:\\n\", subtraction)\n",
    "print(\"\\nElement-wise Multiplication:\\n\", multiplication)\n",
    "print(\"\\nElement-wise Division:\\n\", division)\n"
   ]
  },
  {
   "cell_type": "raw",
   "id": "af686106-6a0c-4cca-b46c-769ddd70ee1f",
   "metadata": {},
   "source": [
    " 8. Use NumPy to create a 5x5 identity matrix, then extract its diagonal elements."
   ]
  },
  {
   "cell_type": "code",
   "execution_count": 13,
   "id": "fbb2103a-887b-4b84-b2a9-53744d146734",
   "metadata": {},
   "outputs": [
    {
     "name": "stdout",
     "output_type": "stream",
     "text": [
      "5x5 Identity Matrix:\n",
      " [[1. 0. 0. 0. 0.]\n",
      " [0. 1. 0. 0. 0.]\n",
      " [0. 0. 1. 0. 0.]\n",
      " [0. 0. 0. 1. 0.]\n",
      " [0. 0. 0. 0. 1.]]\n",
      "\n",
      "Diagonal Elements:\n",
      " [1. 1. 1. 1. 1.]\n"
     ]
    }
   ],
   "source": [
    "import numpy as np\n",
    "\n",
    "# Create a 5x5 identity matrix\n",
    "identity_matrix = np.eye(5)\n",
    "\n",
    "print(\"5x5 Identity Matrix:\\n\", identity_matrix)\n",
    "\n",
    "# Extract the diagonal elements\n",
    "diagonal_elements = np.diagonal(identity_matrix)\n",
    "\n",
    "print(\"\\nDiagonal Elements:\\n\", diagonal_elements)\n"
   ]
  },
  {
   "cell_type": "raw",
   "id": "6c316d2c-9013-4a80-84bf-c0f8a84a30f6",
   "metadata": {},
   "source": [
    " 9. Generate a NumPy array of 100 random integers between 0 and 1000. Find and display all prime numbers in \n",
    "this array."
   ]
  },
  {
   "cell_type": "code",
   "execution_count": 14,
   "id": "58b79348-004c-4f2e-b762-4d79b329c304",
   "metadata": {},
   "outputs": [
    {
     "name": "stdout",
     "output_type": "stream",
     "text": [
      "Random Integers:\n",
      " [882 219 773 394 725   6 947 826 942 366 487 863 517 794  57 226 234 842\n",
      " 491 776 580  84 539 643 848 227 675  32  51 225 745 394 271 338 649 927\n",
      " 645 650 596 855 381 872 842 614 794 274 860 375  41 638 819 132 674 925\n",
      " 396 874  33  29 713 376 381 253 565 507  47 924  94 517 886 140 307 223\n",
      " 964 332 201 486 449  60 295  14 257 958 948 265  69 388 440 417 312 372\n",
      " 969 676 385 785 595 590 472 824 680 804]\n",
      "\n",
      "Prime Numbers:\n",
      " [773, 947, 487, 863, 491, 643, 227, 271, 41, 29, 47, 307, 223, 449, 257]\n"
     ]
    }
   ],
   "source": [
    "import numpy as np\n",
    "\n",
    "# Generate a NumPy array of 100 random integers between 0 and 1000\n",
    "random_integers = np.random.randint(0, 1000, size=100)\n",
    "\n",
    "# Function to check if a number is prime\n",
    "def is_prime(n):\n",
    "    if n <= 1:\n",
    "        return False\n",
    "    for i in range(2, int(n**0.5) + 1):\n",
    "        if n % i == 0:\n",
    "            return False\n",
    "    return True\n",
    "\n",
    "# Find all prime numbers in the array\n",
    "prime_numbers = [num for num in random_integers if is_prime(num)]\n",
    "\n",
    "# Print the results\n",
    "print(\"Random Integers:\\n\", random_integers)\n",
    "print(\"\\nPrime Numbers:\\n\", prime_numbers)\n"
   ]
  },
  {
   "cell_type": "code",
   "execution_count": null,
   "id": "548e9f97-74c9-45cc-80ec-b200a99668ee",
   "metadata": {},
   "outputs": [],
   "source": []
  },
  {
   "cell_type": "code",
   "execution_count": null,
   "id": "861e590f-730e-4418-9fdd-26c56745c04e",
   "metadata": {},
   "outputs": [],
   "source": []
  }
 ],
 "metadata": {
  "kernelspec": {
   "display_name": "Python 3 (ipykernel)",
   "language": "python",
   "name": "python3"
  },
  "language_info": {
   "codemirror_mode": {
    "name": "ipython",
    "version": 3
   },
   "file_extension": ".py",
   "mimetype": "text/x-python",
   "name": "python",
   "nbconvert_exporter": "python",
   "pygments_lexer": "ipython3",
   "version": "3.11.7"
  }
 },
 "nbformat": 4,
 "nbformat_minor": 5
}
