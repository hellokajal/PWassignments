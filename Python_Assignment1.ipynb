{
 "cells": [
  {
   "cell_type": "markdown",
   "id": "7fe1decd-a480-4c96-a4c7-e83dea3e4372",
   "metadata": {},
   "source": [
    "1. Explain the key features of Python that make it a popular choice for programming"
   ]
  },
  {
   "cell_type": "raw",
   "id": "89dde646-e7ca-4750-a648-cd0b90f9c8a0",
   "metadata": {},
   "source": [
    "Key Features of Python are:\n",
    "    1. High level language.\n",
    "    2. Easy to understans and code.\n",
    "    3. Open Source and free software.\n",
    "    4. Object Oriented Methodology.\n",
    "    5. Highly Portable language.\n",
    "    6. Extremely Dyanamic.\n",
    "    7. Supportive of other language.\n",
    "    8. Extensive Array of libraries."
   ]
  },
  {
   "cell_type": "markdown",
   "id": "d88c5b7a-f67b-445c-a277-aade9e4588c2",
   "metadata": {},
   "source": [
    "2. Describe the role of predefined keywords in Python and provide examples of how they are used in a program."
   ]
  },
  {
   "cell_type": "raw",
   "id": "2f17889a-dedd-4587-badb-52d1da099f0a",
   "metadata": {},
   "source": [
    "Predefined Keywords are reserved words in python that have some  special meaning. Keywords are used to define the syntax of coding, some Predefined Keywords are if,else,elif,for,while,def, True, False etc. There are 35 predefined Keywords in Python. \n",
    "\n",
    "Let us take some example of how they are used in a program:"
   ]
  },
  {
   "cell_type": "code",
   "execution_count": 1,
   "id": "caabe547-2a59-465e-a815-5773cdf0d675",
   "metadata": {},
   "outputs": [
    {
     "name": "stdout",
     "output_type": "stream",
     "text": [
      "Value is 1\n",
      "Value is 2\n",
      "else block execute because value is: 3\n",
      "else block execute because value is: 4\n"
     ]
    }
   ],
   "source": [
    "# if, else , elif we will use in this example:\n",
    "for t in range(1, 5):\n",
    "# print one of t ==1\n",
    "\tif t == 1:\n",
    "\t\tprint('Value is 1')\n",
    "# print two if t ==2\n",
    "\telif t == 2:\n",
    "\t\tprint('Value is 2')\n",
    "\telse:\n",
    "\t\tprint('else block execute because value is:',t)\n"
   ]
  },
  {
   "cell_type": "code",
   "execution_count": 12,
   "id": "8dca5328-57fb-448d-9e7e-67f10f1890a7",
   "metadata": {},
   "outputs": [
    {
     "name": "stdin",
     "output_type": "stream",
     "text": [
      "Enter the number 21\n"
     ]
    },
    {
     "data": {
      "text/plain": [
       "'given number is odd'"
      ]
     },
     "execution_count": 12,
     "metadata": {},
     "output_type": "execute_result"
    }
   ],
   "source": [
    "#  def ,if,else we will use to check whether number is odd or even:\n",
    "# define GFG() function using def keyword\n",
    "output=\"\"\n",
    "def GFG():\n",
    "    num = int(input(\"Enter the number\"))\n",
    "    if(num % 2 == 0):\n",
    "        output=\"given number is even\"\n",
    "    else:\n",
    "        output=\"given number is odd\"\n",
    "    return output\n",
    "GFG()"
   ]
  },
  {
   "cell_type": "code",
   "execution_count": 14,
   "id": "eeeffbe2-748b-49d8-8e64-2bfc0fb10701",
   "metadata": {},
   "outputs": [
    {
     "data": {
      "text/plain": [
       "False"
      ]
     },
     "execution_count": 14,
     "metadata": {},
     "output_type": "execute_result"
    }
   ],
   "source": [
    "# True and False for check whether string have a given word.\n",
    "Data=\"Example of True and False\"\n",
    "\"Example\" in Data\n",
    "\"if\" in Data"
   ]
  },
  {
   "cell_type": "markdown",
   "id": "d1b205a3-4f81-4d56-a1aa-086c29ef3492",
   "metadata": {},
   "source": [
    "3. Compare and contrast mutable and immutable objects in Python with examples"
   ]
  },
  {
   "cell_type": "raw",
   "id": "ed17e9c2-7a6c-463b-afab-bfc5276722b4",
   "metadata": {},
   "source": [
    "Mutable Objects those objects which have been changed after creation while immutable object are non changable after creation.\n",
    "List,Dictionary,Set are mutable objects of Python.\n",
    "Tuple,Frozen Set, String are immutable objects of Python."
   ]
  },
  {
   "cell_type": "code",
   "execution_count": 10,
   "id": "07da1076-c7c4-4b6a-b24a-77f853b4ff1b",
   "metadata": {},
   "outputs": [
    {
     "data": {
      "text/plain": [
       "[1, 2, 3, 45, 22, 33]"
      ]
     },
     "execution_count": 10,
     "metadata": {},
     "output_type": "execute_result"
    }
   ],
   "source": [
    "# Examples of Mutable Objects:\n",
    "\n",
    "List = [1,2,3,45,6,33]\n",
    "List\n",
    "List[1] # get the value at index 1\n",
    "List[4] = 22# change the value of index 4 be 22\n",
    "List"
   ]
  },
  {
   "cell_type": "code",
   "execution_count": 13,
   "id": "1defeeda-8f92-4530-80b4-24bd560de5db",
   "metadata": {},
   "outputs": [
    {
     "data": {
      "text/plain": [
       "{1: 'Sumit', 2: 'Mohit', 3: 'Anil'}"
      ]
     },
     "execution_count": 13,
     "metadata": {},
     "output_type": "execute_result"
    }
   ],
   "source": [
    "Dict = {1:\"Sumit\",2:\"Rohit\",3:\"Anil\"}\n",
    "Dict# Dictionary created\n",
    "Dict[2]=\"Mohit\"# Change the value of Key 2\n",
    "Dict"
   ]
  },
  {
   "cell_type": "code",
   "execution_count": 17,
   "id": "18686896-6c9a-4b9d-aefa-3020a6735530",
   "metadata": {},
   "outputs": [
    {
     "data": {
      "text/plain": [
       "{1, 2, 3, 4, 33}"
      ]
     },
     "execution_count": 17,
     "metadata": {},
     "output_type": "execute_result"
    }
   ],
   "source": [
    "Set ={1,2,3,4,1,2,3,4}\n",
    "Set# set Createed\n",
    "Set.add(33)# add the value in set 33\n",
    "Set"
   ]
  },
  {
   "cell_type": "code",
   "execution_count": 19,
   "id": "71723e1c-1b7d-4111-9348-1751b5ec6ac9",
   "metadata": {},
   "outputs": [
    {
     "ename": "TypeError",
     "evalue": "'tuple' object does not support item assignment",
     "output_type": "error",
     "traceback": [
      "\u001b[0;31m---------------------------------------------------------------------------\u001b[0m",
      "\u001b[0;31mTypeError\u001b[0m                                 Traceback (most recent call last)",
      "Cell \u001b[0;32mIn[19], line 4\u001b[0m\n\u001b[1;32m      2\u001b[0m Tuple\u001b[38;5;241m=\u001b[39m(\u001b[38;5;241m1\u001b[39m,\u001b[38;5;241m23\u001b[39m,\u001b[38;5;241m4\u001b[39m,\u001b[38;5;241m3\u001b[39m,\u001b[38;5;241m4\u001b[39m)\n\u001b[1;32m      3\u001b[0m Tuple\u001b[38;5;66;03m# tuple created\u001b[39;00m\n\u001b[0;32m----> 4\u001b[0m \u001b[43mTuple\u001b[49m\u001b[43m[\u001b[49m\u001b[38;5;241;43m1\u001b[39;49m\u001b[43m]\u001b[49m\u001b[38;5;241m=\u001b[39m\u001b[38;5;241m8\u001b[39m\n",
      "\u001b[0;31mTypeError\u001b[0m: 'tuple' object does not support item assignment"
     ]
    }
   ],
   "source": [
    "# Examples of Immutable Objects\n",
    "Tuple=(1,23,4,3,4)\n",
    "Tuple# tuple created\n",
    "Tuple[1]=8# it will throw an error\n"
   ]
  },
  {
   "cell_type": "code",
   "execution_count": 21,
   "id": "02bc2da6-15f8-4b1e-a02a-da73a25f9af8",
   "metadata": {},
   "outputs": [
    {
     "ename": "TypeError",
     "evalue": "'str' object does not support item assignment",
     "output_type": "error",
     "traceback": [
      "\u001b[0;31m---------------------------------------------------------------------------\u001b[0m",
      "\u001b[0;31mTypeError\u001b[0m                                 Traceback (most recent call last)",
      "Cell \u001b[0;32mIn[21], line 3\u001b[0m\n\u001b[1;32m      1\u001b[0m Data\u001b[38;5;241m=\u001b[39m\u001b[38;5;124m\"\u001b[39m\u001b[38;5;124mThis is Example of Immutablity\u001b[39m\u001b[38;5;124m\"\u001b[39m\n\u001b[1;32m      2\u001b[0m Data\u001b[38;5;66;03m# String Created\u001b[39;00m\n\u001b[0;32m----> 3\u001b[0m \u001b[43mData\u001b[49m\u001b[43m[\u001b[49m\u001b[38;5;241;43m1\u001b[39;49m\u001b[43m]\u001b[49m\u001b[38;5;241m=\u001b[39m\u001b[38;5;124m\"\u001b[39m\u001b[38;5;124mx\u001b[39m\u001b[38;5;124m\"\u001b[39m\n",
      "\u001b[0;31mTypeError\u001b[0m: 'str' object does not support item assignment"
     ]
    }
   ],
   "source": [
    "Data=\"This is Example of Immutablity\"\n",
    "Data# String Created\n",
    "Data[1]=\"x\"# It will throw an error\n"
   ]
  },
  {
   "cell_type": "code",
   "execution_count": 23,
   "id": "cda86015-5392-4181-8520-f5ebaf8d4961",
   "metadata": {},
   "outputs": [
    {
     "ename": "AttributeError",
     "evalue": "'frozenset' object has no attribute 'add'",
     "output_type": "error",
     "traceback": [
      "\u001b[0;31m---------------------------------------------------------------------------\u001b[0m",
      "\u001b[0;31mAttributeError\u001b[0m                            Traceback (most recent call last)",
      "Cell \u001b[0;32mIn[23], line 3\u001b[0m\n\u001b[1;32m      1\u001b[0m Frozenset \u001b[38;5;241m=\u001b[39m \u001b[38;5;28mfrozenset\u001b[39m((\u001b[38;5;241m1\u001b[39m,\u001b[38;5;241m2\u001b[39m,\u001b[38;5;241m3\u001b[39m,\u001b[38;5;241m4\u001b[39m,\u001b[38;5;241m4\u001b[39m))\n\u001b[1;32m      2\u001b[0m Frozenset\u001b[38;5;66;03m# created\u001b[39;00m\n\u001b[0;32m----> 3\u001b[0m \u001b[43mFrozenset\u001b[49m\u001b[38;5;241;43m.\u001b[39;49m\u001b[43madd\u001b[49m(\u001b[38;5;241m6\u001b[39m)\n",
      "\u001b[0;31mAttributeError\u001b[0m: 'frozenset' object has no attribute 'add'"
     ]
    }
   ],
   "source": [
    "Frozenset = frozenset((1,2,3,4,4))\n",
    "Frozenset# created\n",
    "Frozenset.add(6)# it will throw an error"
   ]
  },
  {
   "cell_type": "markdown",
   "id": "1c892c0a-2d2d-4278-b7d6-aef688e5c42a",
   "metadata": {},
   "source": [
    "4. Explain the concept of type casting in Python with examples"
   ]
  },
  {
   "cell_type": "raw",
   "id": "d0646c96-30fa-426d-86ed-e5336962033a",
   "metadata": {},
   "source": [
    "Type Casting is the method to convert the Python variable datatype into a certain data type in order to perform the required operation by users.\n",
    "We get the data type of variable by type() function.\n",
    "Type casting has various techniques. It have two types:Implicit and Explicit.\n"
   ]
  },
  {
   "cell_type": "code",
   "execution_count": 28,
   "id": "1cf68fd8-b7bc-412c-8ea0-33a0c0e5c805",
   "metadata": {},
   "outputs": [
    {
     "data": {
      "text/plain": [
       "float"
      ]
     },
     "execution_count": 28,
     "metadata": {},
     "output_type": "execute_result"
    }
   ],
   "source": [
    "# Implicit Type Casting\n",
    "a = 4\n",
    "type(a)#int\n",
    "b=3.0\n",
    "type(b)# float\n",
    "c = a+b\n",
    "type(c)# python automatically converts the ouput in float data type that is implict typecasting"
   ]
  },
  {
   "cell_type": "code",
   "execution_count": 33,
   "id": "68dbdd61-0d46-474f-9c25-6404973fa1d2",
   "metadata": {},
   "outputs": [
    {
     "name": "stdin",
     "output_type": "stream",
     "text": [
      "Enter the value 1\n",
      "enter the value 1\n"
     ]
    },
    {
     "data": {
      "text/plain": [
       "int"
      ]
     },
     "execution_count": 33,
     "metadata": {},
     "output_type": "execute_result"
    }
   ],
   "source": [
    "# Explicit Type Casting\n",
    "\n",
    "data = input(\"Enter the value\")\n",
    "type(data)#if we provide the input is 1 then input function always have string data type \n",
    "newdata= int(input(\"enter the value\"))\n",
    "type(newdata)# now if we want the input as integer explicit type casting required"
   ]
  },
  {
   "cell_type": "markdown",
   "id": "3dc94936-e8d3-4773-b51b-592e80c317f9",
   "metadata": {},
   "source": [
    "5. Discuss the different types of operators in Python and provide examples of how they are used"
   ]
  },
  {
   "cell_type": "raw",
   "id": "8253e856-5f4f-41ea-ae79-fcb062aef23d",
   "metadata": {},
   "source": [
    "Types of Opertors in Python are:\n",
    "1.Arithmetic operators are (Addition,Subtraction,Division,Modulus,Multiplication,Exponentiation,Floor Divison)\n",
    "2.Assignment operators are (=,+=,=+,-=,=-,>>,<<, etc)\n",
    "3.Comparison operators are (==,!=,>=,<=,etc)\n",
    "4.Logical operators are (and,or,not)\n",
    "5.Identity operators are (is,is not)\n",
    "6.Membership operators are (in, not in)\n",
    "7.Bitwise operators are (&,|,^,~,etc)"
   ]
  },
  {
   "cell_type": "code",
   "execution_count": 36,
   "id": "104695e3-da77-44d7-a4ba-58fa7816eb73",
   "metadata": {},
   "outputs": [
    {
     "name": "stdout",
     "output_type": "stream",
     "text": [
      "8 -4 12 0.3333333333333333 0 64\n"
     ]
    }
   ],
   "source": [
    "# Arithmetic Operator Example:\n",
    "a=2\n",
    "b=6\n",
    "add=a+b# addition\n",
    "sub=a-b#subtraction\n",
    "mul=a*b# multiplication\n",
    "div=a/b# divison\n",
    "floor=a//b# Floor Division\n",
    "expo=a**b#Exponentiation\n",
    "print(add,sub,mul,div,floor,expo)"
   ]
  },
  {
   "cell_type": "code",
   "execution_count": 39,
   "id": "8d707183-5ea8-42e4-a9ce-5ad41e1e81dd",
   "metadata": {},
   "outputs": [
    {
     "name": "stdout",
     "output_type": "stream",
     "text": [
      "8\n"
     ]
    },
    {
     "data": {
      "text/plain": [
       "14"
      ]
     },
     "execution_count": 39,
     "metadata": {},
     "output_type": "execute_result"
    }
   ],
   "source": [
    "#Assignment Operators Example:\n",
    "x=8\n",
    "print(x)\n",
    "x=x+3# value is 11\n",
    "x \n",
    "x+=3#value is 11\n",
    "x "
   ]
  },
  {
   "cell_type": "code",
   "execution_count": 42,
   "id": "7f391f39-0a54-4237-a054-da1e0d009822",
   "metadata": {},
   "outputs": [
    {
     "name": "stdout",
     "output_type": "stream",
     "text": [
      "both are equal\n"
     ]
    }
   ],
   "source": [
    "#Comparision Operator Example\n",
    "a= 100\n",
    "b=10\n",
    "if a>b:\n",
    "    print(\"yes a is greater than b\")\n",
    "elif a<b:\n",
    "    print(\"No  a is smaller than b\")\n",
    "else:\n",
    "    print(\"both are equal\")\n"
   ]
  },
  {
   "cell_type": "code",
   "execution_count": 45,
   "id": "7efc5892-9350-44b9-b51a-257cda981528",
   "metadata": {},
   "outputs": [
    {
     "data": {
      "text/plain": [
       "False"
      ]
     },
     "execution_count": 45,
     "metadata": {},
     "output_type": "execute_result"
    }
   ],
   "source": [
    "#Logical Operator Example:\n",
    "x=10\n",
    "y=12\n",
    "z=3\n",
    "x<y and z<y# returns true if both conditions are true\n",
    "x>z or z>y # returns true if one of the condition is True\n",
    "not(x<y and z<y)# returns opposite value if true the it will returns false\n"
   ]
  },
  {
   "cell_type": "code",
   "execution_count": 47,
   "id": "46d22e0d-f0f7-4c81-9525-92860afc42da",
   "metadata": {},
   "outputs": [
    {
     "data": {
      "text/plain": [
       "True"
      ]
     },
     "execution_count": 47,
     "metadata": {},
     "output_type": "execute_result"
    }
   ],
   "source": [
    "#Identity Operators Example:\n",
    "a= 10\n",
    "b= 3\n",
    "a is b # returns False because both objects are different\n",
    "c=a\n",
    "a is c # return True because both objects pointed to the same object"
   ]
  },
  {
   "cell_type": "code",
   "execution_count": 49,
   "id": "7066f19d-0117-4d07-a954-34a66f279e15",
   "metadata": {},
   "outputs": [
    {
     "data": {
      "text/plain": [
       "False"
      ]
     },
     "execution_count": 49,
     "metadata": {},
     "output_type": "execute_result"
    }
   ],
   "source": [
    "# Membership Operator Examples:\n",
    "Data =\"This is example of Operator\"\n",
    "\"This\" in Data# returns true because This is present in Data\n",
    "\"why\" in Data# retruns False because Why is not present in Data"
   ]
  },
  {
   "cell_type": "code",
   "execution_count": 53,
   "id": "5e971104-4d3c-4bee-94a4-1595d8daf803",
   "metadata": {},
   "outputs": [
    {
     "name": "stdout",
     "output_type": "stream",
     "text": [
      "2 7\n"
     ]
    }
   ],
   "source": [
    "# Bitwise Operator Example:\n",
    "a= 6\n",
    "b= 3\n",
    "c= a&b#Sets each bit to 1 if both bits are 1\n",
    "d= a|b#Sets each bit to 1 if one of two bits is 1\n",
    "print(c,d)"
   ]
  },
  {
   "cell_type": "markdown",
   "id": "73541428-203e-41be-9255-8946626fb5bc",
   "metadata": {},
   "source": [
    "6. How do conditional statements work in Python? Illustrate with examples"
   ]
  },
  {
   "cell_type": "raw",
   "id": "c069f611-5ef2-4244-b963-35ba669caf83",
   "metadata": {},
   "source": [
    "Conditional Statements are statements in Python that provide a choice for the control flow based on a condition. It means that the control flow of the Python program will be decided based on the outcome of the condition. \n"
   ]
  },
  {
   "cell_type": "code",
   "execution_count": 3,
   "id": "58caced5-d61d-4c7d-b1cd-6885f7e2c66b",
   "metadata": {},
   "outputs": [
    {
     "name": "stdin",
     "output_type": "stream",
     "text": [
      "Enter a letter Q\n"
     ]
    },
    {
     "name": "stdout",
     "output_type": "stream",
     "text": [
      "letter isn't A, B and C\n"
     ]
    }
   ],
   "source": [
    "# Nesed if-else Example\n",
    "\n",
    "letter = input(\"Enter a letter\")\n",
    "\n",
    "if letter == \"B\": \n",
    "\tprint(\"letter is B\") \n",
    "\n",
    "else: \n",
    "\n",
    "\tif letter == \"C\": \n",
    "\t\tprint(\"letter is C\") \n",
    "\n",
    "\telse: \n",
    "\n",
    "\t\tif letter == \"A\": \n",
    "\t\t\tprint(\"letter is A\") \n",
    "\n",
    "\t\telse: \n",
    "\t\t\tprint(\"letter isn't A, B and C\") \n"
   ]
  },
  {
   "cell_type": "code",
   "execution_count": 6,
   "id": "43de1a58-5cff-4485-9ec4-463d2187ac68",
   "metadata": {},
   "outputs": [
    {
     "name": "stdin",
     "output_type": "stream",
     "text": [
      "Enter a letter q\n"
     ]
    },
    {
     "name": "stdout",
     "output_type": "stream",
     "text": [
      "letter isn't A, B or C\n"
     ]
    }
   ],
   "source": [
    "# if-elif-else  Example\n",
    "letter = input(\"Enter a letter\")\n",
    "\n",
    "if letter == \"B\": \n",
    "\tprint(\"letter is B\") \n",
    "\n",
    "elif letter == \"C\": \n",
    "\tprint(\"letter is C\") \n",
    "\n",
    "elif letter == \"A\": \n",
    "\tprint(\"letter is A\") \n",
    "\n",
    "else: \n",
    "\tprint(\"letter isn't A, B or C\") \n"
   ]
  },
  {
   "cell_type": "markdown",
   "id": "3b1cbe05-75b5-4367-b1a6-9a8b3473eef7",
   "metadata": {},
   "source": [
    "7. Describe the different types of loops in Python and their use cases with examples."
   ]
  },
  {
   "cell_type": "raw",
   "id": "03ea2396-8765-40e4-b5d4-4dae6d653423",
   "metadata": {},
   "source": [
    "Python have two types of loops :\n",
    "1. for loop\n",
    "2. while loop\n",
    "\n",
    "Let us take first for loop:\n",
    "\n",
    "for loop used for traversing each element of data. such as traversing a list or String.\n"
   ]
  },
  {
   "cell_type": "code",
   "execution_count": 14,
   "id": "86027ed9-10ee-45b3-9c12-ceacf8222e0b",
   "metadata": {},
   "outputs": [
    {
     "name": "stdout",
     "output_type": "stream",
     "text": [
      "2 * 1 = 2\n",
      "2 * 2 = 4\n",
      "2 * 3 = 6\n",
      "2 * 4 = 8\n",
      "2 * 5 = 10\n",
      "2 * 6 = 12\n",
      "2 * 7 = 14\n",
      "2 * 8 = 16\n",
      "2 * 9 = 18\n",
      "2 * 10 = 20\n"
     ]
    }
   ],
   "source": [
    "# for loop example of table of 2:\n",
    "output=\"\"\n",
    "for i in range(1,11):\n",
    "    output = (f\"2 * {i} = {i*2}\")\n",
    "    print(output)"
   ]
  },
  {
   "cell_type": "raw",
   "id": "116bf2ec-803b-4024-92ba-60a89c0d0b8c",
   "metadata": {},
   "source": [
    "while loop is used to execute a block of statements repeatedly until a given condition is satisfied. When the condition becomes false, the line immediately after the loop in the program is executed."
   ]
  },
  {
   "cell_type": "code",
   "execution_count": 21,
   "id": "f11b0492-02ee-46a3-9250-b32b24bba973",
   "metadata": {},
   "outputs": [
    {
     "name": "stdout",
     "output_type": "stream",
     "text": [
      "2 * 1 = 2\n",
      "2 * 2 = 4\n",
      "2 * 3 = 6\n",
      "2 * 4 = 8\n",
      "2 * 5 = 10\n",
      "2 * 6 = 12\n",
      "2 * 7 = 14\n",
      "2 * 8 = 16\n",
      "2 * 9 = 18\n",
      "2 * 10 = 20\n",
      "loop terminted\n"
     ]
    }
   ],
   "source": [
    "# while loop example:\n",
    "output =\"\"\n",
    "i=0\n",
    "while(i<10):\n",
    "    i=i+1\n",
    "    output = (f\"2 * {i} = {i*2}\")\n",
    "    print(output)\n",
    "else:\n",
    "    print(\"loop terminted\")\n"
   ]
  }
 ],
 "metadata": {
  "kernelspec": {
   "display_name": "Python 3 (ipykernel)",
   "language": "python",
   "name": "python3"
  },
  "language_info": {
   "codemirror_mode": {
    "name": "ipython",
    "version": 3
   },
   "file_extension": ".py",
   "mimetype": "text/x-python",
   "name": "python",
   "nbconvert_exporter": "python",
   "pygments_lexer": "ipython3",
   "version": "3.10.8"
  }
 },
 "nbformat": 4,
 "nbformat_minor": 5
}
