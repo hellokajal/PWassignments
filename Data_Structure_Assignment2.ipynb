{
 "cells": [
  {
   "cell_type": "raw",
   "id": "96d15c1d-9ff5-43cc-b150-2224e211916e",
   "metadata": {},
   "source": [
    "1. Write a code to reverse a string."
   ]
  },
  {
   "cell_type": "code",
   "execution_count": 130,
   "id": "fd633180-3a09-4703-92a5-96a6673e338b",
   "metadata": {
    "tags": []
   },
   "outputs": [
    {
     "data": {
      "text/plain": [
       "'.gnirts a esrever fo elpmaxe si sihT'"
      ]
     },
     "execution_count": 130,
     "metadata": {},
     "output_type": "execute_result"
    }
   ],
   "source": [
    "Data = \"This is example of reverse a string.\"\n",
    "\n",
    "# using slice operator\n",
    "\n",
    "reversed_string = Data[::-1]\n",
    "reversed_string\n",
    "\n"
   ]
  },
  {
   "cell_type": "code",
   "execution_count": 131,
   "id": "0864c0e3-4666-4c62-8534-1f52f8b5467e",
   "metadata": {},
   "outputs": [
    {
     "name": "stdout",
     "output_type": "stream",
     "text": [
      "The original string is:  This is example of reverse a string.\n",
      "The reverse string is .gnirts a esrever fo elpmaxe si sihT\n"
     ]
    }
   ],
   "source": [
    "# using for loop\n",
    "def reverse_string(string):  \n",
    "    str1 = \"\"   # Declaring empty string to store the reversed string  \n",
    "    for i in string:  \n",
    "        str1 = i + str1  \n",
    "    return str1\n",
    "string = Data\n",
    "print(\"The original string is: \",Data)  \n",
    "print(\"The reverse string is\",reverse_string(string)) # Function call  "
   ]
  },
  {
   "cell_type": "raw",
   "id": "1dfd0085-5681-4436-bca5-d0ad6969a1c2",
   "metadata": {},
   "source": [
    "2.  Write a code to count the number of vowels in a string"
   ]
  },
  {
   "cell_type": "code",
   "execution_count": 132,
   "id": "b2cab944-da08-4a4d-960c-99122d71f6e0",
   "metadata": {},
   "outputs": [
    {
     "name": "stdout",
     "output_type": "stream",
     "text": [
      "count method 13\n"
     ]
    }
   ],
   "source": [
    "Data = \"This is example of vowels count in a string.\"\n",
    "vowels =\"aeiouAEIOU\"\n",
    "\n",
    "\n",
    "#using count method.\n",
    "count = sum(Data.count(vowel) for vowel in vowels)\n",
    "print(\"count method\",count)\n",
    "\n"
   ]
  },
  {
   "cell_type": "code",
   "execution_count": 133,
   "id": "95d8baf8-f9b2-49ad-a7f2-f2892e3697ca",
   "metadata": {},
   "outputs": [
    {
     "name": "stdout",
     "output_type": "stream",
     "text": [
      "list comprehension 13\n"
     ]
    }
   ],
   "source": [
    "# using list comprehension\n",
    "\n",
    "count1 = len([i for i in Data if i in vowels])\n",
    "print(\"list comprehension\",count1)"
   ]
  },
  {
   "cell_type": "raw",
   "id": "bf2e3f6d-b783-41e3-8020-19633ede7636",
   "metadata": {},
   "source": [
    "3.  Write a code to check if a given string is a palindrome or not"
   ]
  },
  {
   "cell_type": "code",
   "execution_count": 134,
   "id": "1b62d9ff-aa96-43b6-93d1-ead52522b79b",
   "metadata": {},
   "outputs": [
    {
     "name": "stdout",
     "output_type": "stream",
     "text": [
      "String is Palindrome\n"
     ]
    }
   ],
   "source": [
    "Data = \"madam\"\n",
    "\n",
    "# using slice operator\n",
    "\n",
    "reversed_string = Data[::-1]\n",
    "reversed_string\n",
    "\n",
    "if reversed_string == Data:\n",
    "    print(\"String is Palindrome\")\n",
    "else:\n",
    "    print(\"String isn't Palindrome\")\n",
    "\n",
    "    \n",
    "\n",
    " "
   ]
  },
  {
   "cell_type": "code",
   "execution_count": 135,
   "id": "b415cd02-ed18-4e60-850e-1d3b000b27d6",
   "metadata": {},
   "outputs": [
    {
     "name": "stdout",
     "output_type": "stream",
     "text": [
      "String is Palindrome\n"
     ]
    }
   ],
   "source": [
    "# using for loop\n",
    "Data2 = \"malayalam\"\n",
    "def reverse_string(string):  \n",
    "    str1 = \"\"   # Declaring empty string to store the reversed string  \n",
    "    for i in string:  \n",
    "        str1 = i + str1  \n",
    "    return str1\n",
    "string = Data2\n",
    "if reverse_string(string) == Data2:\n",
    "    print(\"String is Palindrome\")\n",
    "else:\n",
    "    print(\"String isn't Palindrome\")"
   ]
  },
  {
   "cell_type": "raw",
   "id": "562c5d56-0233-4e24-9074-af660158601f",
   "metadata": {},
   "source": [
    "4.  Write a code to check if two given strings are anagrams of each other."
   ]
  },
  {
   "cell_type": "code",
   "execution_count": 136,
   "id": "e46c2d81-bd6b-4187-ba9d-57b2ed26f3d1",
   "metadata": {},
   "outputs": [
    {
     "name": "stdout",
     "output_type": "stream",
     "text": [
      "String are not anagram\n"
     ]
    }
   ],
   "source": [
    "str1 = \"bad\"\n",
    "str2 = \"dad\"\n",
    "\n",
    "if (sorted(str1) == sorted(str2)):\n",
    "    print(\"String are anagrams to each other\")\n",
    "else:\n",
    "    print(\"String are not anagram\")"
   ]
  },
  {
   "cell_type": "raw",
   "id": "207d8bfb-de90-436d-9ede-88e5cd24f310",
   "metadata": {},
   "source": [
    "5.  Write a code to find all occurrences of a given substring within another string"
   ]
  },
  {
   "cell_type": "code",
   "execution_count": 137,
   "id": "2d1c8ef0-aa3d-4ec0-962b-81de2293e2f0",
   "metadata": {},
   "outputs": [
    {
     "name": "stdout",
     "output_type": "stream",
     "text": [
      "Number of substrings: 1\n"
     ]
    }
   ],
   "source": [
    "Data = \"aabbaca\"\n",
    "substring = \"aca\"\n",
    "\n",
    "count = 0\n",
    "n = len(Data)\n",
    "m = len(substring)\n",
    " \n",
    "for i in range(n - m + 1):\n",
    "    if Data[i:i+m] == substring:\n",
    "        count += 1\n",
    " \n",
    "print(\"Number of substrings:\", count)"
   ]
  },
  {
   "cell_type": "raw",
   "id": "cdd74b65-3250-427d-9c14-795024cf08c8",
   "metadata": {},
   "source": [
    "6.  Write a code to perform basic string compression using the counts of repeated characters"
   ]
  },
  {
   "cell_type": "code",
   "execution_count": 138,
   "id": "1e7938cd-0202-4b27-a0df-e99199b92e0f",
   "metadata": {},
   "outputs": [
    {
     "name": "stdout",
     "output_type": "stream",
     "text": [
      "Compression of tttttuuuutorrrriaaaaalllllll is: t5u4t1o1r4i1a5l7\n",
      "Compression of horizonn is: horizonn\n"
     ]
    }
   ],
   "source": [
    "def compression(s1):\n",
    "    sb = []\n",
    "    count = 1\n",
    "    prev = s1[0]\n",
    "    for i in range(1, len(s1)):\n",
    "        curr = s1[i]\n",
    "        if prev == curr:\n",
    "            count += 1\n",
    "        else:\n",
    "            sb.append(prev)\n",
    "            sb.append(str(count))\n",
    "            prev = curr\n",
    "            count = 1\n",
    "    sb.append(prev)\n",
    "    sb.append(str(count))\n",
    "    compressed = ''.join(sb)\n",
    "    if len(s1) < len(compressed):\n",
    "        return s1\n",
    "    else:\n",
    "        return compressed\n",
    "\n",
    "s1 = \"tttttuuuutorrrriaaaaalllllll\"\n",
    "print(\"Compression of\", s1, \"is:\", compression(s1))\n",
    "s1 = \"horizonn\"\n",
    "print(\"Compression of\", s1, \"is:\", compression(s1))"
   ]
  },
  {
   "cell_type": "raw",
   "id": "c36aef10-4ebd-4b6b-9b91-862fbf41c559",
   "metadata": {},
   "source": [
    "7.  Write a code to determine if a string has all unique characters"
   ]
  },
  {
   "cell_type": "code",
   "execution_count": 139,
   "id": "feff74b3-c816-4244-b058-56567c6bc6db",
   "metadata": {},
   "outputs": [
    {
     "name": "stdout",
     "output_type": "stream",
     "text": [
      "string has unique character\n"
     ]
    }
   ],
   "source": [
    "# using set \n",
    "string = \"xyzwq\"\n",
    "set1=list(set(string))\n",
    "list1=list(string)\n",
    "set1.sort()\n",
    "list1.sort()\n",
    "if(set1==list1):\n",
    "\tprint(\"string has unique character\")\n",
    "else:\n",
    "\tprint(\"string hasn't unique character\")\n",
    "    \n"
   ]
  },
  {
   "cell_type": "code",
   "execution_count": 140,
   "id": "80504236-4dfc-4b15-b231-b6ee8ae2110c",
   "metadata": {},
   "outputs": [
    {
     "name": "stdout",
     "output_type": "stream",
     "text": [
      "string has unique characters.\n"
     ]
    }
   ],
   "source": [
    "#using for loop\n",
    "\n",
    "string = \"xyzwq\"\n",
    "x = \"\"\n",
    "for s in string:\n",
    "    if s not in x:\n",
    "        x+= s\n",
    "if (x==string):\n",
    "    print(\"string has unique characters.\")\n",
    "else:\n",
    "    print(\"String has repeated characters.\")\n"
   ]
  },
  {
   "cell_type": "raw",
   "id": "23fdb827-6bcb-4270-87c6-7be577594fe8",
   "metadata": {},
   "source": [
    "8.  Write a code to convert a given string to uppercase or lowercase"
   ]
  },
  {
   "cell_type": "code",
   "execution_count": 141,
   "id": "4ac54724-718f-4986-838d-664bb0cdd5b8",
   "metadata": {},
   "outputs": [
    {
     "name": "stdout",
     "output_type": "stream",
     "text": [
      "upper case: THIS IS EXAMPLE OF UPPER AND LOWERCASE EXAMPLE\n",
      "lower case: this is example of upper and lowercase example\n"
     ]
    }
   ],
   "source": [
    "# using upper function\n",
    "string = \"This is example of upper and lowercase example\"\n",
    "output = string.upper()\n",
    "print(\"upper case:\",output)\n",
    "\n",
    "lower_output = string.lower()\n",
    "print(\"lower case:\",lower_output)"
   ]
  },
  {
   "cell_type": "raw",
   "id": "beeb2d26-7921-42dc-8c34-33c2300c1c53",
   "metadata": {},
   "source": [
    "9.  Write a code to count the number of words in a string"
   ]
  },
  {
   "cell_type": "code",
   "execution_count": 142,
   "id": "fb056ec3-013d-4785-a99e-97e90a4cc430",
   "metadata": {},
   "outputs": [
    {
     "name": "stdout",
     "output_type": "stream",
     "text": [
      "12\n"
     ]
    }
   ],
   "source": [
    "# using split function\n",
    "string = \"This is example of count the number of words in a string.\"\n",
    "\n",
    "count = len(string.split())\n",
    "print(count)"
   ]
  },
  {
   "cell_type": "raw",
   "id": "cd097331-f15c-4cd5-b121-1f0c04715e58",
   "metadata": {},
   "source": [
    "10.  Write a code to concatenate two strings without using the + operator"
   ]
  },
  {
   "cell_type": "code",
   "execution_count": 143,
   "id": "fec7773a-a4ea-43cf-94f0-f1a8db450620",
   "metadata": {},
   "outputs": [
    {
     "name": "stdout",
     "output_type": "stream",
     "text": [
      "This is example of concatenation without using the + opertaor\n"
     ]
    }
   ],
   "source": [
    "# using join function\n",
    "string1 = \"This is example of concatenation\"\n",
    "string2 = \"without using the + opertaor\"\n",
    "\n",
    "concat = \" \".join([string1,string2])\n",
    "print(concat)\n",
    "\n"
   ]
  },
  {
   "cell_type": "code",
   "execution_count": 144,
   "id": "4b043bd3-67fd-44f8-be56-00dfb333c74e",
   "metadata": {},
   "outputs": [
    {
     "name": "stdout",
     "output_type": "stream",
     "text": [
      "This is example of concatenation without using the + opertaor\n"
     ]
    }
   ],
   "source": [
    "# using format method\n",
    "\n",
    "concat2 = \"{} {}\".format(string1, string2)\n",
    "print(concat2)\n"
   ]
  },
  {
   "cell_type": "raw",
   "id": "60f270f4-df19-45f0-88e7-2e0cc94584c6",
   "metadata": {},
   "source": [
    "11.  Write a code to remove all occurrences of a specific element from a list"
   ]
  },
  {
   "cell_type": "code",
   "execution_count": 145,
   "id": "894fd0eb-62cb-463c-babc-9c432ffb28ad",
   "metadata": {},
   "outputs": [
    {
     "name": "stdout",
     "output_type": "stream",
     "text": [
      "[1, 2, 3, 4, 'xyz', 1, 2, 3, 4, 'xyz']\n"
     ]
    }
   ],
   "source": [
    "# using list comprehension\n",
    "\n",
    "list1 = [\"str\",1,2,3,4,\"xyz\",\"str\",1,2,3,4,\"xyz\"]\n",
    "removed_item = \"str\"\n",
    "res = [i for i in list1 if i != removed_item] \n",
    "print(res)"
   ]
  },
  {
   "cell_type": "raw",
   "id": "e09ad33a-411a-443f-8e8a-fa0b1d0af480",
   "metadata": {},
   "source": [
    "12.  Implement a code to find the second largest number in a given list of integers"
   ]
  },
  {
   "cell_type": "code",
   "execution_count": 146,
   "id": "443fd5b1-c7e6-4dd9-9ffe-f5e6791437e1",
   "metadata": {},
   "outputs": [
    {
     "name": "stdout",
     "output_type": "stream",
     "text": [
      "[2, 3, 7, 8, 10, 11, 22]\n",
      "second largest number is 11\n"
     ]
    }
   ],
   "source": [
    "# using sorted function\n",
    "\n",
    "list1 = [10,11,2,3,7,8,22]\n",
    "list1.sort()\n",
    "print(list1)\n",
    "second_largest_number = list1[-2]\n",
    "print(\"second largest number is\",second_largest_number)"
   ]
  },
  {
   "cell_type": "raw",
   "id": "e1527b41-4c08-450e-9ba1-288612f25594",
   "metadata": {},
   "source": [
    "13. Create a code to count the occurrences of each element in a list and return a dictionary with elements as \n",
    "keys and their counts as values"
   ]
  },
  {
   "cell_type": "code",
   "execution_count": 147,
   "id": "c1daaba5-3f3e-4301-8597-7d40787aa4cd",
   "metadata": {},
   "outputs": [
    {
     "name": "stdout",
     "output_type": "stream",
     "text": [
      " 1 :  5\n",
      " 5 :  2\n",
      " 3 :  3\n",
      " 4 :  3\n",
      " 2 :  4\n"
     ]
    }
   ],
   "source": [
    "def CountFrequency(my_list):\n",
    "\n",
    "\t# Creating an empty dictionary\n",
    "\tfreq = {}\n",
    "\tfor item in my_list:\n",
    "\t\tif (item in freq):\n",
    "\t\t\tfreq[item] += 1\n",
    "\t\telse:\n",
    "\t\t\tfreq[item] = 1\n",
    "\n",
    "\tfor key, value in freq.items():\n",
    "\t\tprint(\"% d : % d\" % (key, value))\n",
    "\n",
    "\n",
    "my_list = [1, 1, 1, 5, 5, 3, 1, 3, 3, 1, 4, 4, 4, 2, 2, 2, 2]\n",
    "CountFrequency(my_list)\n"
   ]
  },
  {
   "cell_type": "raw",
   "id": "24720bd5-943c-4af8-a5a9-60c5308729fc",
   "metadata": {},
   "source": [
    "14.  Write a code to reverse a list in-place without using any built-in reverse functions"
   ]
  },
  {
   "cell_type": "code",
   "execution_count": 148,
   "id": "61ce3e6d-f365-498c-b38f-9058cecee8d5",
   "metadata": {},
   "outputs": [
    {
     "name": "stdout",
     "output_type": "stream",
     "text": [
      "[5, 4, 3, 2, 1]\n"
     ]
    }
   ],
   "source": [
    "original_list = [1, 2, 3, 4, 5]\n",
    "reversed_list = [item for item in original_list[::-1]]\n",
    "\n",
    "print(reversed_list)"
   ]
  },
  {
   "cell_type": "raw",
   "id": "2c5fe271-2f03-4ef5-81bf-8ba5c4bbe267",
   "metadata": {},
   "source": [
    "15.  Write a code to merge two sorted lists into a single sorted list"
   ]
  },
  {
   "cell_type": "code",
   "execution_count": 149,
   "id": "ae9b378d-2cbe-465f-9c21-1ba353502054",
   "metadata": {},
   "outputs": [
    {
     "data": {
      "text/plain": [
       "[1, 2, 3, 4, 5, 6, 7, 8, 9, 10]"
      ]
     },
     "execution_count": 149,
     "metadata": {},
     "output_type": "execute_result"
    }
   ],
   "source": [
    "list1 = [1,4,5,3,2]\n",
    "list2 = [6,8,9,10,7]\n",
    "list1.sort()\n",
    "list2.sort()\n",
    "list3 = list1 + list2\n",
    "list3"
   ]
  },
  {
   "cell_type": "raw",
   "id": "381c4795-59c7-4192-a296-022ac56f0c29",
   "metadata": {},
   "source": [
    "16.  Implement a code to find the intersection of two given lists"
   ]
  },
  {
   "cell_type": "code",
   "execution_count": 150,
   "id": "69d8e7f2-2c06-449a-8d36-c3e0297558f9",
   "metadata": {},
   "outputs": [
    {
     "name": "stdout",
     "output_type": "stream",
     "text": [
      "[3, 5, 8, 9]\n"
     ]
    }
   ],
   "source": [
    "list1 = [1,4,5,3,2,8,9]\n",
    "list2 = [6,8,9,10,7,5,3]\n",
    "intersect = list(set(list1) & set(list2))\n",
    "intersect.sort()\n",
    "print(intersect)\n",
    "\n"
   ]
  },
  {
   "cell_type": "code",
   "execution_count": 151,
   "id": "4601045e-ffe9-43ca-ac09-9570b5f0fbdb",
   "metadata": {},
   "outputs": [
    {
     "name": "stdout",
     "output_type": "stream",
     "text": [
      "[5, 3, 8, 9]\n"
     ]
    }
   ],
   "source": [
    "# using list comprehension\n",
    "output = [item for item in list1 if item in list2]\n",
    "print(output)"
   ]
  },
  {
   "cell_type": "raw",
   "id": "6361d672-baf6-4787-bb6a-a6c9bb554aee",
   "metadata": {},
   "source": [
    "17.  Implement a code to find and remove duplicates from a list while preserving the original order of \n",
    "elements "
   ]
  },
  {
   "cell_type": "code",
   "execution_count": 152,
   "id": "5d621f5f-5040-4a55-a1fb-141d7eeed7c8",
   "metadata": {},
   "outputs": [
    {
     "name": "stdout",
     "output_type": "stream",
     "text": [
      "[3, 2, 5, 7, 8, 9, 11, 10]\n"
     ]
    }
   ],
   "source": [
    "from collections import OrderedDict\n",
    "\n",
    "list1 = [3,2,5,7,8,9,11,10,3,2,5,7,]\n",
    "output = list(OrderedDict.fromkeys(list1))\n",
    "print(output)"
   ]
  },
  {
   "cell_type": "raw",
   "id": "351f4e25-64f3-4cd7-990d-05accb82da24",
   "metadata": {},
   "source": [
    "18.  Create a code to check if a given list is sorted (either in ascending or descending order) or not"
   ]
  },
  {
   "cell_type": "code",
   "execution_count": 153,
   "id": "861439b2-6a7a-46ad-9107-3b5957654f8a",
   "metadata": {},
   "outputs": [
    {
     "name": "stdout",
     "output_type": "stream",
     "text": [
      "Given list :  [11, 23, 42, 51, 67, 88, 22, 12]\n",
      "No, List is not sorted.\n"
     ]
    }
   ],
   "source": [
    "# using copy method\n",
    "\n",
    "list1 = [11,23,42,51,67,88,22,12]\n",
    "#Given list\n",
    "print(\"Given list : \",list1)\n",
    "list2 = list1[:]\n",
    "# Apply sort to copy\n",
    "list2.sort()\n",
    "if (list1 == list2):\n",
    "   print(\"Yes, List is sorted.\")\n",
    "else:\n",
    "   print(\"No, List is not sorted.\")"
   ]
  },
  {
   "cell_type": "raw",
   "id": "839045fa-9f23-429d-b6fa-4b82d6a56c7d",
   "metadata": {},
   "source": [
    "19.  Create a code to find the union of two lists without duplicates"
   ]
  },
  {
   "cell_type": "code",
   "execution_count": 154,
   "id": "5fbabe00-5862-43fa-815c-f9ab45fe6275",
   "metadata": {},
   "outputs": [
    {
     "name": "stdout",
     "output_type": "stream",
     "text": [
      "The result will  be: [1, 2, 3.5, 3, 4, 6, 7, 8, 9, 10]\n"
     ]
    }
   ],
   "source": [
    "list1 = [9,2,3,3.5,6,1,9]\n",
    "list2 = [10,4,6,7,3,3,1,6,8]\n",
    "\n",
    "\n",
    "#using set\n",
    "\n",
    "set1 = set(list1)\n",
    "set2 = set(list2)\n",
    "\n",
    "result = list(set1.union(set2))\n",
    "print(\"The result will  be:\" ,result)"
   ]
  },
  {
   "cell_type": "raw",
   "id": "baade266-185d-415b-994a-3d55aa68935d",
   "metadata": {},
   "source": [
    "20.  Write a code to shuffle a given list randomly without using any built-in shuffle functions"
   ]
  },
  {
   "cell_type": "code",
   "execution_count": 155,
   "id": "069fc779-b89e-4215-a5e2-59b71ff07b26",
   "metadata": {
    "tags": []
   },
   "outputs": [
    {
     "name": "stdout",
     "output_type": "stream",
     "text": [
      "[12, 19, 0, 7, 4, 3, 9]\n"
     ]
    }
   ],
   "source": [
    "import random\n",
    "\n",
    "def shuffle(lst):\n",
    "    for i in range(len(lst) - 1, 0, -1):\n",
    "        j = random.randint(0, i)\n",
    "        lst[i], lst[j] = lst[j], lst[i]\n",
    "\n",
    "# Example usage\n",
    "my_list = [19,12,3,4,7,9,0]\n",
    "shuffle(my_list)\n",
    "print(my_list) \n"
   ]
  },
  {
   "cell_type": "raw",
   "id": "12d83439-9732-4c94-913d-e1c4a59de539",
   "metadata": {},
   "source": [
    "21. Write a code that takes two tuples as input and returns a new tuple containing elements that are \n",
    "common to both input tuples"
   ]
  },
  {
   "cell_type": "code",
   "execution_count": null,
   "id": "251f86cc-fc19-48f3-92f7-452b71ea1be7",
   "metadata": {
    "tags": []
   },
   "outputs": [],
   "source": [
    "tuple1 = input('Enter tuple 1: ').strip().split(',')\n",
    "tuple2 = input('Enter tuple 2: ').strip().split(',')\n",
    "\n",
    "list1=list(tuple1)\n",
    "list2=list(tuple2)\n",
    "\n",
    "common_elements = tuple([x for x in list1 if x in list2])\n",
    "print(\"Common Elements are:\",common_elements)\n",
    "\n",
    "               "
   ]
  },
  {
   "cell_type": "raw",
   "id": "9bf78cf0-f731-4d15-9b37-ed63b362573f",
   "metadata": {},
   "source": [
    "22. Create a code that prompts the user to enter two sets of integers separated by commas. Then, print the \n",
    "intersection of these two sets."
   ]
  },
  {
   "cell_type": "code",
   "execution_count": null,
   "id": "d3979943-1b81-4c84-ad3c-bf072a00897f",
   "metadata": {},
   "outputs": [],
   "source": [
    "while True: \n",
    "    user_input1 = input('Enter set 1: ').strip().split(',')\n",
    "    user_input2 = input('Enter set 2: ').strip().split(',') \n",
    "    try: \n",
    "        set1 = set([int(x) for x in user_input1])\n",
    "        set2 = set([int(x) for x in user_input2])\n",
    "        break  # Exit the loop if conversion is successful \n",
    "    except ValueError: \n",
    "        print(\"Please enter only interger value seprated by commas in both sets\") \n",
    "\n",
    "intersection = set1.intersection(set2)\n",
    "print(\"the intersection will be:\",intersection)"
   ]
  },
  {
   "cell_type": "raw",
   "id": "5cf81c53-3f0d-4872-87c9-b97607ee249a",
   "metadata": {},
   "source": [
    "23.  Write a code to concatenate two tuples. The function should take two tuples as input and return a new \n",
    "tuple containing elements from both input tuples."
   ]
  },
  {
   "cell_type": "code",
   "execution_count": null,
   "id": "108d086d-ce6d-4d93-b383-e2aaa9a4ff6d",
   "metadata": {
    "tags": []
   },
   "outputs": [],
   "source": [
    "# using + operator\n",
    "\n",
    "def concatenate(tuple1,tuple2):\n",
    "    list1=list(tuple1)\n",
    "    list2=list(tuple2)\n",
    "    res = list1+list2\n",
    "    return tuple(res)\n",
    "\n",
    "tuple1 = input('Enter tuple 1: ').strip().split(',')\n",
    "tuple2 = input('Enter tuple 2: ').strip().split(',')\n",
    "\n",
    "concatenate(tuple1,tuple2)"
   ]
  },
  {
   "cell_type": "code",
   "execution_count": null,
   "id": "fdab3a8a-a064-4b5e-967d-fbdb64b8fc70",
   "metadata": {
    "tags": []
   },
   "outputs": [],
   "source": [
    "# using extend function\n",
    "def concatenate(tuple1,tuple2):\n",
    "    list1=list(tuple1)\n",
    "    list2=list(tuple2)\n",
    "    list1.extend(list2)\n",
    "    return tuple(list1\n",
    "\n",
    "tuple1 = input('Enter tuple 1: ').strip().split(',')\n",
    "tuple2 = input('Enter tuple 2: ').strip().split(',')\n",
    "\n",
    "concatenate(tuple1,tuple2)\n"
   ]
  },
  {
   "cell_type": "raw",
   "id": "b357a70c-fb68-4f8e-a70d-d91b492c9790",
   "metadata": {},
   "source": [
    "24. Develop a code that prompts the user to input two sets of strings. Then, print the elements that are \n",
    "present in the first set but not in the second set."
   ]
  },
  {
   "cell_type": "code",
   "execution_count": null,
   "id": "4f9298ff-11a1-4b78-b3fb-672e9cbb8858",
   "metadata": {
    "tags": []
   },
   "outputs": [],
   "source": [
    "user_input1 = input('Enter string set 1: ').strip().split(',')\n",
    "user_input2 = input('Enter string set 2: ').strip().split(',')\n",
    "list1 = [x.isdigit() for x in user_input1]\n",
    "list2 = [y.isdigit() for y in user_input2]\n",
    "if True in list1 or True in list2:\n",
    "    print(\"Please enter only string value seprated by commas in both sets\")\n",
    "else:\n",
    "    set1 = set(user_input1)\n",
    "    set2 = set(user_input2)\n",
    "    result = set1-set2\n",
    "    print(\"result will be:\",result)"
   ]
  },
  {
   "cell_type": "raw",
   "id": "33c3be9b-47c9-4d4e-ac7f-f8269a8465c3",
   "metadata": {},
   "source": [
    "25.  Create a code that takes a tuple and two integers as input. The function should return a new tuple \n",
    "containing elements from the original tuple within the specified range of indices."
   ]
  },
  {
   "cell_type": "code",
   "execution_count": null,
   "id": "208eed3b-23a7-484d-9ec7-01e429f6af19",
   "metadata": {
    "tags": []
   },
   "outputs": [],
   "source": [
    "def slice_tuple(original_tuple, start_index, end_index):\n",
    "    if not (0 <= start_index <= end_index <= len(original_tuple)):\n",
    "        raise ValueError(\"Index out of bounds or invalid range\")\n",
    "\n",
    "    # Return the sliced tuple\n",
    "    return original_tuple[start_index:end_index]\n",
    "\n",
    "\n",
    "user_input1 = tuple(input('Enter tuple values seprated by commas:').strip().split(','))\n",
    "\n",
    "if len(user_input1)<2:\n",
    "    print(\"Please enter a tuple values seperated by commas\")\n",
    "try:\n",
    "    value1 = int(input('Enter value 1 :'))\n",
    "    value2 = int(input('Enter value 2 :'))\n",
    "    #break  # Exit the loop if conversion is successful \n",
    "except ValueError: \n",
    "    print(\"Please enter only interger value\") \n",
    "\n",
    "new_tuple = slice_tuple(user_input1, value1, value2)\n",
    "print(new_tuple)\n"
   ]
  },
  {
   "cell_type": "raw",
   "id": "327aa84f-ddfc-463f-bcf5-a3d367253bdf",
   "metadata": {},
   "source": [
    "26. Write a code that prompts the user to input two sets of characters. Then, print the union of these two sets"
   ]
  },
  {
   "cell_type": "code",
   "execution_count": null,
   "id": "5f07814f-141c-4ed1-9cba-27e9d4054f7e",
   "metadata": {},
   "outputs": [],
   "source": [
    "user_input1 = input('Enter character set 1: ').strip().split(',')\n",
    "user_input2 = input('Enter character set 2: ').strip().split(',')\n",
    "list1 = [True if len(x) == 1 else False for x in user_input1 ]\n",
    "list2 = [True if len(y) == 1 else False for y in user_input2 ]\n",
    "if False in list1 or False in list2:\n",
    "    print(\"Please enter only characters seprated by commas in both sets\")\n",
    "else:\n",
    "    set1 = set(user_input1)\n",
    "    set2 = set(user_input2)\n",
    "    result = set1.union(set2)\n",
    "    print(\"union of sets will be:\",result)"
   ]
  },
  {
   "cell_type": "raw",
   "id": "8f3d0c7d-e18c-4e07-aac0-fec171452924",
   "metadata": {},
   "source": [
    "27. Develop a code that takes a tuple of integers as input. The function should return the maximum and \n",
    "minimum values from the tuple using tuple unpacking."
   ]
  },
  {
   "cell_type": "code",
   "execution_count": null,
   "id": "118d5b03-6dbb-4ea8-9d39-4d0704f7edbc",
   "metadata": {},
   "outputs": [],
   "source": [
    "def max_min_from_tuple(tuple_value):\n",
    "    if not tuple_value:\n",
    "        raise ValueError(\"The tuple is empty\")\n",
    "\n",
    "    max_val = max(tuple_value)\n",
    "    min_val = min(tuple_value)\n",
    "    return max_val, min_val\n",
    "\n",
    "\n",
    "\n",
    "while True: \n",
    "    user_input = input('Enter tuple of integers: ').strip().split(',')\n",
    "    try: \n",
    "        tuple_value = tuple([int(x) for x in user_input])\n",
    "        break  # Exit the loop if conversion is successful \n",
    "    except ValueError: \n",
    "        print(\"Please enter only interger value seprated by commas in input\")\n",
    "print(tuple_value)\n",
    "\n",
    "# Example usage\n",
    "max_val, min_val = max_min_from_tuple(tuple_value)\n",
    "print(f\"Maximum Value: {max_val}\")  # Output: Maximum Value: 50\n",
    "print(f\"Minimum Value: {min_val}\")  # Output: Minimum Value: 10"
   ]
  },
  {
   "cell_type": "raw",
   "id": "2e29aaa1-3850-4601-9cf8-fe9fc70fd427",
   "metadata": {},
   "source": [
    "28. Create a code that defines two sets of integers. Then, print the union, intersection, and difference of these \n",
    "two sets."
   ]
  },
  {
   "cell_type": "code",
   "execution_count": null,
   "id": "ff929d73-5f78-4528-9b0e-0dc013777a44",
   "metadata": {},
   "outputs": [],
   "source": [
    "while True: \n",
    "    user_input1 = input('Enter set 1: ').strip().split(',')\n",
    "    user_input2 = input('Enter set 2: ').strip().split(',') \n",
    "    try: \n",
    "        set1 = set([int(x) for x in user_input1])\n",
    "        set2 = set([int(x) for x in user_input2])\n",
    "        break  # Exit the loop if conversion is successful \n",
    "    except ValueError: \n",
    "        print(\"Please enter only interger value seprated by commas in both sets\") \n",
    "\n",
    "#intersection of sets\n",
    "intersection = set1.intersection(set2)\n",
    "print(\"the intersection will be:\",intersection)\n",
    "\n",
    "\n",
    "#union of sets\n",
    "union_set = set1.union(set2)\n",
    "print(\"the union will be:\",union_set)\n",
    "\n",
    "#difference of both sets\n",
    "difference = set1-set2\n",
    "print(\"difference of both sets will be:\",difference)"
   ]
  },
  {
   "cell_type": "raw",
   "id": "735d8272-34df-45a0-91cb-327f6229a926",
   "metadata": {},
   "source": [
    "29. Write a code that takes a tuple and an element as input. The function should return the count of \n",
    "occurrences of the given element in the tuples."
   ]
  },
  {
   "cell_type": "code",
   "execution_count": null,
   "id": "9e5aacb7-5aef-452b-80a1-914e891268fe",
   "metadata": {},
   "outputs": [],
   "source": [
    "def count_occurrences(tup, element):\n",
    "    return tup.count(element)\n",
    "\n",
    "# Example usage\n",
    "my_tuple = (1, 2, 3, 2, 4, 2, 5)\n",
    "element_to_count = 3\n",
    "count = count_occurrences(my_tuple, element_to_count)\n",
    "print(f\"The element {element_to_count} appears {count} times in the tuple.\")\n"
   ]
  },
  {
   "cell_type": "raw",
   "id": "48e520e7-d11f-4cb2-a1b6-10bb1ed58355",
   "metadata": {},
   "source": [
    "30.  Develop a code that prompts the user to input two sets of strings. Then, print the symmetric difference of \n",
    "these two sets"
   ]
  },
  {
   "cell_type": "code",
   "execution_count": null,
   "id": "d3f6415b-040d-4f24-afc9-7184aed7e76c",
   "metadata": {},
   "outputs": [],
   "source": [
    "user_input1 = input('Enter string set 1: ').strip().split(',')\n",
    "user_input2 = input('Enter string set 2: ').strip().split(',')\n",
    "list1 = [x.isdigit() for x in user_input1]\n",
    "list2 = [y.isdigit() for y in user_input2]\n",
    "if True in list1 or True in list2:\n",
    "    print(\"Please enter only string value seprated by commas in both sets\")\n",
    "\n",
    "set1 = set(user_input1)\n",
    "set2 = set(user_input2)\n",
    "result = set1 ^ set2\n",
    "print(\"Symmetric Difference will be:\",result)\n"
   ]
  },
  {
   "cell_type": "raw",
   "id": "fd3c8a85-4bb5-4f5f-83f3-35f3fca3476f",
   "metadata": {},
   "source": [
    "31.  Write a code that takes a list of words as input and returns a dictionary where the keys are unique words \n",
    "and the values are the frequencies of those words in the input list."
   ]
  },
  {
   "cell_type": "code",
   "execution_count": null,
   "id": "d8ea352f-8878-43ee-a325-b69861708bd0",
   "metadata": {},
   "outputs": [],
   "source": [
    "user_input1 = input('Enter list of words: ').strip().split(',')\n",
    "list1 = [x.isdigit() for x in user_input1]\n",
    "if True in list1:\n",
    "    print(\"Please enter only string value seprated by commas\")\n",
    "    \n",
    "frequency_dict = {}\n",
    "for word in user_input1:\n",
    "    if word in frequency_dict:\n",
    "        frequency_dict[word] += 1\n",
    "    else:\n",
    "        frequency_dict[word] = 1\n",
    "print(\"Dictionary will be:\", frequency_dict)"
   ]
  },
  {
   "cell_type": "raw",
   "id": "62c5c400-0365-46fd-b9d3-fe760ee7b768",
   "metadata": {},
   "source": [
    "32.  Write a code that takes two dictionaries as input and merges them into a single dictionary. If there are \n",
    "common keys, the values should be added together."
   ]
  },
  {
   "cell_type": "code",
   "execution_count": null,
   "id": "f482da2e-8ec9-41cd-99c4-3c8a5c4f8f97",
   "metadata": {},
   "outputs": [],
   "source": [
    "def merge_dictionaries(dict1, dict2):\n",
    "\n",
    "    merged_dict = {}\n",
    "\n",
    "    for key, value in dict1.items():\n",
    "        merged_dict[key] = merged_dict.get(key, 0) + value\n",
    "\n",
    "    for key, value in dict2.items():\n",
    "        merged_dict[key] = merged_dict.get(key, 0) + value\n",
    "\n",
    "    return merged_dict\n",
    "\n",
    "# Example usage\n",
    "dict1 = {'a': 10, 'b': 20, 'c': 30}\n",
    "dict2 = {'b': 15, 'c': 25, 'd': 40}\n",
    "\n",
    "merged = merge_dictionaries(dict1, dict2)\n",
    "print(merged)\n"
   ]
  },
  {
   "cell_type": "raw",
   "id": "b2078e20-5f16-4a25-9de3-b215c575f558",
   "metadata": {},
   "source": [
    "33.  Write a code to access a value in a nested dictionary. The function should take the dictionary and a list of \n",
    "keys as input, and return the corresponding value. If any of the keys do not exist in the dictionary, the \n",
    "function should return None."
   ]
  },
  {
   "cell_type": "code",
   "execution_count": null,
   "id": "fc736fa2-b6b4-49e1-8a9c-72742b732338",
   "metadata": {},
   "outputs": [],
   "source": [
    "def get_nested_value(d, keys):\n",
    "    current = d\n",
    "    for key in keys:\n",
    "        if isinstance(current, dict) and key in current:\n",
    "            current = current[key]\n",
    "        else:\n",
    "            return None\n",
    "    return current\n",
    "\n",
    "# Example usage\n",
    "nested_dict = {\n",
    "    'a': {\n",
    "        'b': {\n",
    "            'c': 42\n",
    "        }\n",
    "    }\n",
    "}\n",
    "\n",
    "keys = ['a', 'b', 'c']\n",
    "value = get_nested_value(nested_dict, keys)\n",
    "print(value) \n",
    "\n",
    "# Example where key is not found\n",
    "keys_not_found = ['a', 'b', 'x']\n",
    "value_not_found = get_nested_value(nested_dict, keys_not_found)\n",
    "print(value_not_found)\n"
   ]
  },
  {
   "cell_type": "raw",
   "id": "0e9b8872-e58f-4510-b96b-012b9c5852e0",
   "metadata": {},
   "source": [
    "34.  Write a code that takes a dictionary as input and returns a sorted version of it based on the values. You \n",
    "can choose whether to sort in ascending or descending order."
   ]
  },
  {
   "cell_type": "code",
   "execution_count": null,
   "id": "5253d4c8-3ca2-4b9d-93e3-28775bc33713",
   "metadata": {},
   "outputs": [],
   "source": [
    "def sort_dict_by_value(d, ascending=True):\n",
    "    # Sort the dictionary by value\n",
    "    sorted_dict = dict(sorted(d.items(), key=lambda item: item[1], reverse=not ascending))\n",
    "\n",
    "    return sorted_dict\n",
    "\n",
    "# Example usage\n",
    "my_dict = {'apple': 10, 'banana': 5, 'cherry': 20}\n",
    "\n",
    "# Sort in ascending order\n",
    "sorted_asc = sort_dict_by_value(my_dict, ascending=True)\n",
    "print(\"Ascending:\", sorted_asc)  # Output: Ascending: {'banana': 5, 'apple': 10, 'cherry': 20}\n",
    "\n",
    "# Sort in descending order\n",
    "sorted_desc = sort_dict_by_value(my_dict, ascending=False)\n",
    "print(\"Descending:\", sorted_desc)  # Output: Descending: {'cherry': 20, 'apple': 10, 'banana': 5}\n"
   ]
  },
  {
   "cell_type": "raw",
   "id": "c1f7a707-002d-442c-8db1-79b0bcf363db",
   "metadata": {},
   "source": [
    "35. Write a code that inverts a dictionary, swapping keys and values. Ensure that the inverted dictionary \n",
    "correctly handles cases where multiple keys have the same value by storing the keys as a list in the \n",
    "inverted dictionary."
   ]
  },
  {
   "cell_type": "code",
   "execution_count": null,
   "id": "6c475353-e1d2-4ab1-85ba-618e7404cfaa",
   "metadata": {
    "tags": []
   },
   "outputs": [],
   "source": [
    "def invert_dict(original_dict):\n",
    "    inverted_dict = {}\n",
    "    \n",
    "    for key, value in original_dict.items():\n",
    "        if value in inverted_dict:\n",
    "            inverted_dict[value].append(key)\n",
    "        else:\n",
    "            inverted_dict[value] = [key]\n",
    "    \n",
    "    return inverted_dict\n",
    "\n",
    "# Example usage\n",
    "original_dict = {'a': 1, 'b': 2, 'c': 1, 'd': 3, 'e': 2}\n",
    "\n",
    "inverted = invert_dict(original_dict)\n",
    "print(inverted)  \n"
   ]
  },
  {
   "cell_type": "code",
   "execution_count": null,
   "id": "9baafc89-8f49-4f6d-bce5-40cfbd2b3a0a",
   "metadata": {},
   "outputs": [],
   "source": []
  }
 ],
 "metadata": {
  "kernelspec": {
   "display_name": "Python 3 (ipykernel)",
   "language": "python",
   "name": "python3"
  },
  "language_info": {
   "codemirror_mode": {
    "name": "ipython",
    "version": 3
   },
   "file_extension": ".py",
   "mimetype": "text/x-python",
   "name": "python",
   "nbconvert_exporter": "python",
   "pygments_lexer": "ipython3",
   "version": "3.10.8"
  }
 },
 "nbformat": 4,
 "nbformat_minor": 5
}
