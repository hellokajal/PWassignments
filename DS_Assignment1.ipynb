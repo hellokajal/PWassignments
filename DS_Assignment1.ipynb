{
 "cells": [
  {
   "cell_type": "raw",
   "id": "fa30ebc0-9afd-49c9-a11b-b29d3273c37b",
   "metadata": {},
   "source": [
    "1. Discuss string slicing and provide examples."
   ]
  },
  {
   "cell_type": "raw",
   "id": "41561577-9ace-4465-ba19-4975441c9081",
   "metadata": {},
   "source": [
    "String slicing means get sub string from given string by slicing it.\n",
    "Syntax of slicing:\n",
    "\n",
    "arr[start index:end index:step]"
   ]
  },
  {
   "cell_type": "code",
   "execution_count": 1,
   "id": "d5a3aea4-56ae-4cd7-bf14-77a093ef3867",
   "metadata": {},
   "outputs": [
    {
     "name": "stdout",
     "output_type": "stream",
     "text": [
      "This his is example of string slicing. This is  This is example of string slicing. Ti se\n"
     ]
    }
   ],
   "source": [
    "# example of string slicing in different ways\n",
    "Data= \"This is example of string slicing.\"\n",
    "out1 = Data[0:4]# items start through stop-1\n",
    "out2 = Data[1:]# items start through the rest of the array\n",
    "out3 = Data[:8]# items from the beginning through stop-1\n",
    "out4 = Data[:] # a copy of the whole array\n",
    "out5 = Data[0:10:2]# start through not past stop, by step\n",
    "\n",
    "print(out1,out2,out3,out4,out5)\n"
   ]
  },
  {
   "cell_type": "raw",
   "id": "76d041e1-f1bd-4095-a4d0-63e5df6c3ef7",
   "metadata": {},
   "source": [
    "2. Explain the key features of lists in Python."
   ]
  },
  {
   "cell_type": "raw",
   "id": "4a8ed7c3-1547-4198-a5e4-65f1be108a0f",
   "metadata": {},
   "source": [
    "Key features of list are as follows:\n",
    "The lists are in order.\n",
    "The list element can be accessed via the index.\n",
    "The lists are mutable.\n",
    "The rundowns are changeable sorts.\n",
    "The number of various elements can be stored in a list.\n",
    "The lists  can be stores Hetrogenous data type elements."
   ]
  },
  {
   "cell_type": "raw",
   "id": "f85c0d2a-9f23-4ffa-8f87-641b45d3c667",
   "metadata": {},
   "source": [
    "3. Describe how to access, modify, and delete elements in a list with examples"
   ]
  },
  {
   "cell_type": "code",
   "execution_count": 3,
   "id": "32180eba-ecbc-4cdd-b60f-94a2d1a2759f",
   "metadata": {},
   "outputs": [
    {
     "name": "stdout",
     "output_type": "stream",
     "text": [
      "Apple\n",
      "Mango\n",
      "11\n",
      "89\n",
      "90.5\n"
     ]
    },
    {
     "data": {
      "text/plain": [
       "[]"
      ]
     },
     "execution_count": 3,
     "metadata": {},
     "output_type": "execute_result"
    }
   ],
   "source": [
    "# Let us take an exmaple of list\n",
    "\n",
    "List = [\"Apple\" , \"Mango\", \"11\", \"89\", \"90.5\"]\n",
    "List\n",
    "\n",
    "# Access the elemnts from list\n",
    "# using index value\n",
    "List[1]\n",
    "# iterate whole list \n",
    "for item in List:\n",
    "    print(item)\n",
    "    \n",
    "# Modify the list\n",
    "\n",
    "List[3]=\"Banana\"\n",
    "List\n",
    "\n",
    "List.append(\"x\")\n",
    "List\n",
    "\n",
    "# Delete elements from list\n",
    "List.remove(\"Banana\")\n",
    "List\n",
    "\n",
    "List.pop(3)\n",
    "\n",
    "#del List\n",
    "#List\n",
    "\n",
    "List.clear()\n",
    "List"
   ]
  },
  {
   "cell_type": "raw",
   "id": "4d24d31f-926b-45a3-84ce-7a75c959ed64",
   "metadata": {},
   "source": [
    "4. Compare and contrast tuples and lists with examples"
   ]
  },
  {
   "cell_type": "raw",
   "id": "8f6570e1-6b3e-4070-8465-50facb209c78",
   "metadata": {},
   "source": [
    "1. Lists are mutable while tuples are not.\n",
    "2. The list is better for performing operations, such as insertion and deletion while a Tuple data type is appropriate for accessing the elements.\n",
    "3. Lists consume more memory while tuples are less.\n",
    "4. Unexpected changes and errors are more likely to occur while tuples less because tuples don’t change they are far less error-prone."
   ]
  },
  {
   "cell_type": "code",
   "execution_count": 2,
   "id": "238143df-1313-4603-af3d-aa8140ffc18d",
   "metadata": {},
   "outputs": [
    {
     "data": {
      "text/plain": [
       "[1, 2, 22, 4, 5]"
      ]
     },
     "execution_count": 2,
     "metadata": {},
     "output_type": "execute_result"
    }
   ],
   "source": [
    "# Example of list\n",
    "List = [1,2,3,4,5]\n",
    "List\n",
    "List[2]=22\n",
    "List # List is mutable\n"
   ]
  },
  {
   "cell_type": "code",
   "execution_count": 4,
   "id": "940db5d5-055c-4245-a368-9957f39885f9",
   "metadata": {},
   "outputs": [
    {
     "ename": "TypeError",
     "evalue": "'tuple' object does not support item assignment",
     "output_type": "error",
     "traceback": [
      "\u001b[0;31m---------------------------------------------------------------------------\u001b[0m",
      "\u001b[0;31mTypeError\u001b[0m                                 Traceback (most recent call last)",
      "Cell \u001b[0;32mIn[4], line 4\u001b[0m\n\u001b[1;32m      2\u001b[0m Tuple \u001b[38;5;241m=\u001b[39m (\u001b[38;5;241m1\u001b[39m,\u001b[38;5;241m2\u001b[39m,\u001b[38;5;241m3\u001b[39m,\u001b[38;5;241m4\u001b[39m,\u001b[38;5;241m5\u001b[39m)\n\u001b[1;32m      3\u001b[0m Tuple\n\u001b[0;32m----> 4\u001b[0m \u001b[43mTuple\u001b[49m\u001b[43m[\u001b[49m\u001b[38;5;241;43m2\u001b[39;49m\u001b[43m]\u001b[49m\u001b[38;5;241m=\u001b[39m\u001b[38;5;241m22\u001b[39m\n\u001b[1;32m      5\u001b[0m Tuple\n",
      "\u001b[0;31mTypeError\u001b[0m: 'tuple' object does not support item assignment"
     ]
    }
   ],
   "source": [
    "# Example of tuple\n",
    "Tuple = (1,2,3,4,5)\n",
    "Tuple\n",
    "Tuple[2]=22\n",
    "Tuple# Tuple is immutable"
   ]
  },
  {
   "cell_type": "raw",
   "id": "e7519ec8-d42d-436a-9738-1516d9b9b208",
   "metadata": {},
   "source": [
    "5. Describe the key features of sets and provide examples of their use"
   ]
  },
  {
   "cell_type": "raw",
   "id": "904715b4-e95a-4fa5-8503-08a073041b0a",
   "metadata": {},
   "source": [
    "Key Features of Set are:\n",
    "\n",
    "\n",
    "1. Set is an unordered collection data type.\n",
    "2. Set removes duplicate elements from data.\n",
    "3. It is iteratable.\n",
    "4. It is mutable.\n",
    "5. It performs math operation like union, intersaction etc."
   ]
  },
  {
   "cell_type": "code",
   "execution_count": 17,
   "id": "fe8085d5-3d47-4f80-90cf-212a7a38a292",
   "metadata": {},
   "outputs": [
    {
     "data": {
      "text/plain": [
       "{1, 4.2, 5, 6, 7}"
      ]
     },
     "execution_count": 17,
     "metadata": {},
     "output_type": "execute_result"
    }
   ],
   "source": [
    "# example of sets uses:\n",
    "\n",
    "\n",
    "# remove duplicates elements \n",
    "\n",
    "Lists = [1,2,3,1,2,3,4,4,5,5,6]\n",
    "output = set(Lists)\n",
    "output\n",
    "\n",
    "# hetrogenous data type\n",
    "data_Set = {1,2,3,1,23,\"xyz\",1.3,33,True,False}\n",
    "data_Set\n",
    "\n",
    "# performs math opertaions\n",
    "\n",
    "# union\n",
    "set1 = {1,2,3,4.2,3}\n",
    "set2 = {5,6,7,3,2}\n",
    "output = set1 | set2\n",
    "output\n",
    "\n",
    "\n",
    "# intersection\n",
    "\n",
    "set1 = {1,2,3,4.2,3}\n",
    "set2 = {5,6,7,3,2}\n",
    "output = set1 & set2\n",
    "output\n",
    "\n",
    "# symmetric difference\n",
    "\n",
    "set1 = {1,2,3,4.2,3}\n",
    "set2 = {5,6,7,3,2}\n",
    "output = set1 ^ set2\n",
    "output"
   ]
  },
  {
   "cell_type": "raw",
   "id": "7ae3e925-0ff5-42ab-8064-a6d4ee2e9fcd",
   "metadata": {},
   "source": [
    "6. Discuss the use cases of tuples and sets in Python programming"
   ]
  },
  {
   "cell_type": "raw",
   "id": "189120ae-153c-4662-9e7a-cd86e8ec9a44",
   "metadata": {},
   "source": [
    "Use Cases of tuples in python Programming are:\n",
    "1. Tuples are ordered collections, which means the order of elements in a tuple is maintained.\n",
    "2. Tuples are immutable.\n",
    "3. Tuples are often used to represent fixed collections of related data. For example, returning multiple values from a function as a tuple ensures that the data stays together and retains its meaning.\n",
    "4.  Tuples are generally more memory-efficient and faster to access than sets, especially for small collections of data.\n",
    "\n",
    "Use Cases of Sets in Python Programming:\n",
    "\n",
    "1. Sets do not allow duplicate elements.\n",
    "2. Sets support set operations like union, intersection, and difference.\n",
    "3. Sets are mutable, meaning you can add or remove elements from a set after it's created.\n",
    "4. Sets are an unordered collection data type."
   ]
  },
  {
   "cell_type": "raw",
   "id": "3036fed5-20ca-4e24-800a-d10099973525",
   "metadata": {},
   "source": [
    "7. Describe how to add, modify, and delete items in a dictionary with examples"
   ]
  },
  {
   "cell_type": "raw",
   "id": "0997ec2d-4ca3-49a7-b921-cad389200e9f",
   "metadata": {},
   "source": [
    "# Let us take an example:\n",
    "Dict = {1:\"Suresh\",2:\"Mukesh\",3:\"Ritesh\",4:\"Vishal\",5:\"Harish\"}\n",
    "Dict\n",
    "\n",
    "# Add an item in Dict\n",
    "\n",
    "Dict[6] = \"Mohit\"\n",
    "Dict\n",
    "\n",
    "# Modify dict\n",
    "\n",
    "Dict.update({7:\"Sonu\"})\n",
    "Dict\n",
    "\n",
    "# delete item from Dict\n",
    "Dict.pop(4)#Removes the element with the specified key\n",
    "\n",
    "Dict.popitem()#Removes the last inserted key-value pair\n",
    "\n",
    "Dict.clear()#Removes all the elements from the dictionary\n"
   ]
  },
  {
   "cell_type": "raw",
   "id": "87357f0d-dc03-473c-9f0e-65e07419fe5c",
   "metadata": {},
   "source": [
    "8. Discuss the importance of dictionary keys being immutable and provide examples."
   ]
  },
  {
   "cell_type": "raw",
   "id": "0603058b-d306-4d02-a829-f997b3dfc4ea",
   "metadata": {},
   "source": [
    "Importance of dictionary keys being immutable are:\n",
    "\n",
    "1. The hash table implementation of dictionaries uses a hash value calculated from the key value to find the key. If the key were a mutable object, its value could change, and thus its hash could also change.\n",
    "\n",
    "For example if keys are mutable then the key will be changed and hash value of key also changed. Then, when you try to look up the same object in the dictionary it won’t be found because its hash value is different. If you tried to look up the old value it wouldn’t be found either, because the value of the object found in that hash bin would be different."
   ]
  }
 ],
 "metadata": {
  "kernelspec": {
   "display_name": "Python 3 (ipykernel)",
   "language": "python",
   "name": "python3"
  },
  "language_info": {
   "codemirror_mode": {
    "name": "ipython",
    "version": 3
   },
   "file_extension": ".py",
   "mimetype": "text/x-python",
   "name": "python",
   "nbconvert_exporter": "python",
   "pygments_lexer": "ipython3",
   "version": "3.10.8"
  }
 },
 "nbformat": 4,
 "nbformat_minor": 5
}
